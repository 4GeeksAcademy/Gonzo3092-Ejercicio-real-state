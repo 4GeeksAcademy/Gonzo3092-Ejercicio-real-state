{
 "cells": [
  {
   "attachments": {},
   "cell_type": "markdown",
   "id": "innocent-university",
   "metadata": {},
   "source": [
    "# Real Estate Clean up\n",
    "\n",
    "This is a real dataset, and it was downloaded using web scraping techniques. The data contains registers from **Fotocasa** which is one of the most popular real estate websites in Spain. Please, do not do this (web scraping) unless it is for academic purposes.\n",
    "\n",
    "The dataset was downloaded a few years ago by Henry Navarro, and in no case were economic returns obtained from it.\n",
    "\n",
    "It contains thousands of data from real houses published on the web www.fotocasa.com. Your goal is to extract as much information as possible with the knowledge you have so far about data science, for example what is the most expensive house in the entire dataset?\n",
    "\n",
    "Let's start with precisely that question... Good luck!"
   ]
  },
  {
   "attachments": {},
   "cell_type": "markdown",
   "id": "multiple-glass",
   "metadata": {},
   "source": [
    "#### Exercise 00. Read the dataset assets/real_estate.csv and try to visualize the table (★☆☆)"
   ]
  },
  {
   "cell_type": "code",
   "execution_count": 47,
   "id": "frank-heath",
   "metadata": {},
   "outputs": [
    {
     "data": {
      "text/html": [
       "<div>\n",
       "<style scoped>\n",
       "    .dataframe tbody tr th:only-of-type {\n",
       "        vertical-align: middle;\n",
       "    }\n",
       "\n",
       "    .dataframe tbody tr th {\n",
       "        vertical-align: top;\n",
       "    }\n",
       "\n",
       "    .dataframe thead th {\n",
       "        text-align: right;\n",
       "    }\n",
       "</style>\n",
       "<table border=\"1\" class=\"dataframe\">\n",
       "  <thead>\n",
       "    <tr style=\"text-align: right;\">\n",
       "      <th></th>\n",
       "      <th>Unnamed: 0</th>\n",
       "      <th>id_realEstates</th>\n",
       "      <th>isNew</th>\n",
       "      <th>realEstate_name</th>\n",
       "      <th>phone_realEstate</th>\n",
       "      <th>url_inmueble</th>\n",
       "      <th>rooms</th>\n",
       "      <th>bathrooms</th>\n",
       "      <th>surface</th>\n",
       "      <th>price</th>\n",
       "      <th>...</th>\n",
       "      <th>level4Id</th>\n",
       "      <th>level5Id</th>\n",
       "      <th>level6Id</th>\n",
       "      <th>level7Id</th>\n",
       "      <th>level8Id</th>\n",
       "      <th>accuracy</th>\n",
       "      <th>latitude</th>\n",
       "      <th>longitude</th>\n",
       "      <th>zipCode</th>\n",
       "      <th>customZone</th>\n",
       "    </tr>\n",
       "  </thead>\n",
       "  <tbody>\n",
       "    <tr>\n",
       "      <th>0</th>\n",
       "      <td>1</td>\n",
       "      <td>153771986</td>\n",
       "      <td>False</td>\n",
       "      <td>ferrari 57 inmobiliaria</td>\n",
       "      <td>912177526.0</td>\n",
       "      <td>https://www.fotocasa.es/es/comprar/vivienda/ma...</td>\n",
       "      <td>3.0</td>\n",
       "      <td>2.0</td>\n",
       "      <td>103.0</td>\n",
       "      <td>195000</td>\n",
       "      <td>...</td>\n",
       "      <td>0</td>\n",
       "      <td>0</td>\n",
       "      <td>0</td>\n",
       "      <td>0</td>\n",
       "      <td>0</td>\n",
       "      <td>0</td>\n",
       "      <td>40,2948276786438</td>\n",
       "      <td>-3,44402412135624</td>\n",
       "      <td>NaN</td>\n",
       "      <td>NaN</td>\n",
       "    </tr>\n",
       "    <tr>\n",
       "      <th>1</th>\n",
       "      <td>2</td>\n",
       "      <td>153867863</td>\n",
       "      <td>False</td>\n",
       "      <td>tecnocasa fuenlabrada ferrocarril</td>\n",
       "      <td>916358736.0</td>\n",
       "      <td>https://www.fotocasa.es/es/comprar/vivienda/ma...</td>\n",
       "      <td>3.0</td>\n",
       "      <td>1.0</td>\n",
       "      <td>NaN</td>\n",
       "      <td>89000</td>\n",
       "      <td>...</td>\n",
       "      <td>0</td>\n",
       "      <td>0</td>\n",
       "      <td>0</td>\n",
       "      <td>0</td>\n",
       "      <td>0</td>\n",
       "      <td>1</td>\n",
       "      <td>40,28674</td>\n",
       "      <td>-3,79351</td>\n",
       "      <td>NaN</td>\n",
       "      <td>NaN</td>\n",
       "    </tr>\n",
       "    <tr>\n",
       "      <th>2</th>\n",
       "      <td>3</td>\n",
       "      <td>153430440</td>\n",
       "      <td>False</td>\n",
       "      <td>look find boadilla</td>\n",
       "      <td>916350408.0</td>\n",
       "      <td>https://www.fotocasa.es/es/comprar/vivienda/ma...</td>\n",
       "      <td>2.0</td>\n",
       "      <td>2.0</td>\n",
       "      <td>99.0</td>\n",
       "      <td>390000</td>\n",
       "      <td>...</td>\n",
       "      <td>0</td>\n",
       "      <td>0</td>\n",
       "      <td>0</td>\n",
       "      <td>0</td>\n",
       "      <td>0</td>\n",
       "      <td>0</td>\n",
       "      <td>40,4115646786438</td>\n",
       "      <td>-3,90662252135624</td>\n",
       "      <td>NaN</td>\n",
       "      <td>NaN</td>\n",
       "    </tr>\n",
       "    <tr>\n",
       "      <th>3</th>\n",
       "      <td>4</td>\n",
       "      <td>152776331</td>\n",
       "      <td>False</td>\n",
       "      <td>tecnocasa fuenlabrada ferrocarril</td>\n",
       "      <td>916358736.0</td>\n",
       "      <td>https://www.fotocasa.es/es/comprar/vivienda/ma...</td>\n",
       "      <td>3.0</td>\n",
       "      <td>1.0</td>\n",
       "      <td>86.0</td>\n",
       "      <td>89000</td>\n",
       "      <td>...</td>\n",
       "      <td>0</td>\n",
       "      <td>0</td>\n",
       "      <td>0</td>\n",
       "      <td>0</td>\n",
       "      <td>0</td>\n",
       "      <td>0</td>\n",
       "      <td>40,2853785786438</td>\n",
       "      <td>-3,79508142135624</td>\n",
       "      <td>NaN</td>\n",
       "      <td>NaN</td>\n",
       "    </tr>\n",
       "    <tr>\n",
       "      <th>4</th>\n",
       "      <td>5</td>\n",
       "      <td>153180188</td>\n",
       "      <td>False</td>\n",
       "      <td>ferrari 57 inmobiliaria</td>\n",
       "      <td>912177526.0</td>\n",
       "      <td>https://www.fotocasa.es/es/comprar/vivienda/ma...</td>\n",
       "      <td>2.0</td>\n",
       "      <td>2.0</td>\n",
       "      <td>106.0</td>\n",
       "      <td>172000</td>\n",
       "      <td>...</td>\n",
       "      <td>0</td>\n",
       "      <td>0</td>\n",
       "      <td>0</td>\n",
       "      <td>0</td>\n",
       "      <td>0</td>\n",
       "      <td>0</td>\n",
       "      <td>40,2998774864376</td>\n",
       "      <td>-3,45226301356237</td>\n",
       "      <td>NaN</td>\n",
       "      <td>NaN</td>\n",
       "    </tr>\n",
       "    <tr>\n",
       "      <th>...</th>\n",
       "      <td>...</td>\n",
       "      <td>...</td>\n",
       "      <td>...</td>\n",
       "      <td>...</td>\n",
       "      <td>...</td>\n",
       "      <td>...</td>\n",
       "      <td>...</td>\n",
       "      <td>...</td>\n",
       "      <td>...</td>\n",
       "      <td>...</td>\n",
       "      <td>...</td>\n",
       "      <td>...</td>\n",
       "      <td>...</td>\n",
       "      <td>...</td>\n",
       "      <td>...</td>\n",
       "      <td>...</td>\n",
       "      <td>...</td>\n",
       "      <td>...</td>\n",
       "      <td>...</td>\n",
       "      <td>...</td>\n",
       "      <td>...</td>\n",
       "    </tr>\n",
       "    <tr>\n",
       "      <th>15330</th>\n",
       "      <td>15331</td>\n",
       "      <td>153901377</td>\n",
       "      <td>False</td>\n",
       "      <td>infocasa consulting</td>\n",
       "      <td>911360461.0</td>\n",
       "      <td>https://www.fotocasa.es/es/comprar/vivienda/ma...</td>\n",
       "      <td>2.0</td>\n",
       "      <td>1.0</td>\n",
       "      <td>96.0</td>\n",
       "      <td>259470</td>\n",
       "      <td>...</td>\n",
       "      <td>0</td>\n",
       "      <td>0</td>\n",
       "      <td>0</td>\n",
       "      <td>0</td>\n",
       "      <td>0</td>\n",
       "      <td>0</td>\n",
       "      <td>40,45416</td>\n",
       "      <td>-3,70286</td>\n",
       "      <td>NaN</td>\n",
       "      <td>NaN</td>\n",
       "    </tr>\n",
       "    <tr>\n",
       "      <th>15331</th>\n",
       "      <td>15332</td>\n",
       "      <td>150394373</td>\n",
       "      <td>False</td>\n",
       "      <td>inmobiliaria pulpon</td>\n",
       "      <td>912788039.0</td>\n",
       "      <td>https://www.fotocasa.es/es/comprar/vivienda/ma...</td>\n",
       "      <td>3.0</td>\n",
       "      <td>1.0</td>\n",
       "      <td>150.0</td>\n",
       "      <td>165000</td>\n",
       "      <td>...</td>\n",
       "      <td>0</td>\n",
       "      <td>0</td>\n",
       "      <td>0</td>\n",
       "      <td>0</td>\n",
       "      <td>0</td>\n",
       "      <td>0</td>\n",
       "      <td>40,36652</td>\n",
       "      <td>-3,48951</td>\n",
       "      <td>NaN</td>\n",
       "      <td>NaN</td>\n",
       "    </tr>\n",
       "    <tr>\n",
       "      <th>15332</th>\n",
       "      <td>15333</td>\n",
       "      <td>153901397</td>\n",
       "      <td>False</td>\n",
       "      <td>tecnocasa torrelodones</td>\n",
       "      <td>912780348.0</td>\n",
       "      <td>https://www.fotocasa.es/es/comprar/vivienda/ma...</td>\n",
       "      <td>4.0</td>\n",
       "      <td>2.0</td>\n",
       "      <td>175.0</td>\n",
       "      <td>495000</td>\n",
       "      <td>...</td>\n",
       "      <td>0</td>\n",
       "      <td>0</td>\n",
       "      <td>0</td>\n",
       "      <td>0</td>\n",
       "      <td>0</td>\n",
       "      <td>0</td>\n",
       "      <td>40,57444</td>\n",
       "      <td>-3,92124</td>\n",
       "      <td>NaN</td>\n",
       "      <td>NaN</td>\n",
       "    </tr>\n",
       "    <tr>\n",
       "      <th>15333</th>\n",
       "      <td>15334</td>\n",
       "      <td>152607440</td>\n",
       "      <td>False</td>\n",
       "      <td>inmobiliaria pulpon</td>\n",
       "      <td>912788039.0</td>\n",
       "      <td>https://www.fotocasa.es/es/comprar/vivienda/ma...</td>\n",
       "      <td>3.0</td>\n",
       "      <td>2.0</td>\n",
       "      <td>101.0</td>\n",
       "      <td>195000</td>\n",
       "      <td>...</td>\n",
       "      <td>0</td>\n",
       "      <td>0</td>\n",
       "      <td>0</td>\n",
       "      <td>0</td>\n",
       "      <td>0</td>\n",
       "      <td>0</td>\n",
       "      <td>40,36967</td>\n",
       "      <td>-3,48105</td>\n",
       "      <td>NaN</td>\n",
       "      <td>NaN</td>\n",
       "    </tr>\n",
       "    <tr>\n",
       "      <th>15334</th>\n",
       "      <td>15335</td>\n",
       "      <td>153901356</td>\n",
       "      <td>False</td>\n",
       "      <td>infocasa consulting</td>\n",
       "      <td>911360461.0</td>\n",
       "      <td>https://www.fotocasa.es/es/comprar/vivienda/ma...</td>\n",
       "      <td>3.0</td>\n",
       "      <td>2.0</td>\n",
       "      <td>152.0</td>\n",
       "      <td>765000</td>\n",
       "      <td>...</td>\n",
       "      <td>0</td>\n",
       "      <td>0</td>\n",
       "      <td>0</td>\n",
       "      <td>0</td>\n",
       "      <td>0</td>\n",
       "      <td>0</td>\n",
       "      <td>40,45773</td>\n",
       "      <td>-3,69068</td>\n",
       "      <td>NaN</td>\n",
       "      <td>NaN</td>\n",
       "    </tr>\n",
       "  </tbody>\n",
       "</table>\n",
       "<p>15335 rows × 37 columns</p>\n",
       "</div>"
      ],
      "text/plain": [
       "       Unnamed: 0  id_realEstates  isNew                    realEstate_name  \\\n",
       "0               1       153771986  False            ferrari 57 inmobiliaria   \n",
       "1               2       153867863  False  tecnocasa fuenlabrada ferrocarril   \n",
       "2               3       153430440  False                 look find boadilla   \n",
       "3               4       152776331  False  tecnocasa fuenlabrada ferrocarril   \n",
       "4               5       153180188  False            ferrari 57 inmobiliaria   \n",
       "...           ...             ...    ...                                ...   \n",
       "15330       15331       153901377  False                infocasa consulting   \n",
       "15331       15332       150394373  False                inmobiliaria pulpon   \n",
       "15332       15333       153901397  False             tecnocasa torrelodones   \n",
       "15333       15334       152607440  False                inmobiliaria pulpon   \n",
       "15334       15335       153901356  False                infocasa consulting   \n",
       "\n",
       "       phone_realEstate                                       url_inmueble  \\\n",
       "0           912177526.0  https://www.fotocasa.es/es/comprar/vivienda/ma...   \n",
       "1           916358736.0  https://www.fotocasa.es/es/comprar/vivienda/ma...   \n",
       "2           916350408.0  https://www.fotocasa.es/es/comprar/vivienda/ma...   \n",
       "3           916358736.0  https://www.fotocasa.es/es/comprar/vivienda/ma...   \n",
       "4           912177526.0  https://www.fotocasa.es/es/comprar/vivienda/ma...   \n",
       "...                 ...                                                ...   \n",
       "15330       911360461.0  https://www.fotocasa.es/es/comprar/vivienda/ma...   \n",
       "15331       912788039.0  https://www.fotocasa.es/es/comprar/vivienda/ma...   \n",
       "15332       912780348.0  https://www.fotocasa.es/es/comprar/vivienda/ma...   \n",
       "15333       912788039.0  https://www.fotocasa.es/es/comprar/vivienda/ma...   \n",
       "15334       911360461.0  https://www.fotocasa.es/es/comprar/vivienda/ma...   \n",
       "\n",
       "       rooms  bathrooms  surface   price  ... level4Id level5Id level6Id  \\\n",
       "0        3.0        2.0    103.0  195000  ...        0        0        0   \n",
       "1        3.0        1.0      NaN   89000  ...        0        0        0   \n",
       "2        2.0        2.0     99.0  390000  ...        0        0        0   \n",
       "3        3.0        1.0     86.0   89000  ...        0        0        0   \n",
       "4        2.0        2.0    106.0  172000  ...        0        0        0   \n",
       "...      ...        ...      ...     ...  ...      ...      ...      ...   \n",
       "15330    2.0        1.0     96.0  259470  ...        0        0        0   \n",
       "15331    3.0        1.0    150.0  165000  ...        0        0        0   \n",
       "15332    4.0        2.0    175.0  495000  ...        0        0        0   \n",
       "15333    3.0        2.0    101.0  195000  ...        0        0        0   \n",
       "15334    3.0        2.0    152.0  765000  ...        0        0        0   \n",
       "\n",
       "      level7Id level8Id accuracy          latitude          longitude zipCode  \\\n",
       "0            0        0        0  40,2948276786438  -3,44402412135624     NaN   \n",
       "1            0        0        1          40,28674           -3,79351     NaN   \n",
       "2            0        0        0  40,4115646786438  -3,90662252135624     NaN   \n",
       "3            0        0        0  40,2853785786438  -3,79508142135624     NaN   \n",
       "4            0        0        0  40,2998774864376  -3,45226301356237     NaN   \n",
       "...        ...      ...      ...               ...                ...     ...   \n",
       "15330        0        0        0          40,45416           -3,70286     NaN   \n",
       "15331        0        0        0          40,36652           -3,48951     NaN   \n",
       "15332        0        0        0          40,57444           -3,92124     NaN   \n",
       "15333        0        0        0          40,36967           -3,48105     NaN   \n",
       "15334        0        0        0          40,45773           -3,69068     NaN   \n",
       "\n",
       "      customZone  \n",
       "0            NaN  \n",
       "1            NaN  \n",
       "2            NaN  \n",
       "3            NaN  \n",
       "4            NaN  \n",
       "...          ...  \n",
       "15330        NaN  \n",
       "15331        NaN  \n",
       "15332        NaN  \n",
       "15333        NaN  \n",
       "15334        NaN  \n",
       "\n",
       "[15335 rows x 37 columns]"
      ]
     },
     "execution_count": 47,
     "metadata": {},
     "output_type": "execute_result"
    }
   ],
   "source": [
    "import pandas as pd\n",
    "\n",
    "# This CSV file contains semicolons instead of comas as separator\n",
    "ds = pd.read_csv('assets/real_estate.csv', sep=';')\n",
    "ds\n"
   ]
  },
  {
   "attachments": {},
   "cell_type": "markdown",
   "id": "latin-guest",
   "metadata": {},
   "source": [
    "#### Exercise 01. Which is the most expensive house in the dataset? (★☆☆)\n",
    "\n",
    "Print the address and the price of the selected house. For example:\n",
    "\n",
    "`The house with address General Street Nº5 is the most expensive and its price is 5000000 USD`"
   ]
  },
  {
   "cell_type": "code",
   "execution_count": 48,
   "id": "developing-optimum",
   "metadata": {},
   "outputs": [
    {
     "name": "stdout",
     "output_type": "stream",
     "text": [
      "la casa con direccion en El Escorial, es la mas cara y su precio es de 8500000\n"
     ]
    }
   ],
   "source": [
    "# TODO\n",
    "casa_mas_cara = ds.loc[ds['price'].idxmax()]\n",
    "direccion = casa_mas_cara['address']\n",
    "precio = casa_mas_cara['price']\n",
    "print(f\"la casa con direccion en {direccion}, es la mas cara y su precio es de {precio}\")\n",
    "\n",
    "\n",
    "\n",
    "\n"
   ]
  },
  {
   "attachments": {},
   "cell_type": "markdown",
   "id": "lesser-cosmetic",
   "metadata": {},
   "source": [
    "#### Exercise 02. Which is the cheapest house in the dataset? (★☆☆)\n",
    "\n",
    "Print the address and the price of the selected house. For example:\n",
    "\n",
    "`The house with address Concrete Street Nº1 is the cheapest and its price is 12000 USD`"
   ]
  },
  {
   "cell_type": "code",
   "execution_count": 49,
   "id": "lovely-oasis",
   "metadata": {},
   "outputs": [
    {
     "name": "stdout",
     "output_type": "stream",
     "text": [
      "la casa con direccion en Parla, es la mas barata y su precio es de 0\n"
     ]
    }
   ],
   "source": [
    "# TODO\n",
    "casa_mas_barata = ds.loc[ds['price'].idxmin()]\n",
    "direccion1 = casa_mas_barata['address']\n",
    "precio1 = casa_mas_barata['price']\n",
    "print(f\"la casa con direccion en {direccion1}, es la mas barata y su precio es de {precio1}\")\n"
   ]
  },
  {
   "attachments": {},
   "cell_type": "markdown",
   "id": "compliant-fellowship",
   "metadata": {},
   "source": [
    "#### Exercise 03. Which is the biggest and the smallest house in the dataset? (★☆☆)\n",
    "\n",
    "Print both the address and the surface of the selected houses. For example:\n",
    "\n",
    "`The biggest house is located on Yukka Street Nº10 and its surface is 5000 meters`\n",
    "\n",
    "`The smallest house is located on County Road 1 N and its surface is 200 meters`"
   ]
  },
  {
   "cell_type": "code",
   "execution_count": 50,
   "id": "every-tiffany",
   "metadata": {},
   "outputs": [],
   "source": [
    "# TODO\n",
    "casa_mas_grande = ds.loc[ds[\"surface\"].idxmax()]\n",
    "casa_mas_pequena = ds.loc[ds[\"surface\"].idxmin()]\n",
    "direccion2 = casa_mas_grande[\"address\"]\n"
   ]
  },
  {
   "attachments": {},
   "cell_type": "markdown",
   "id": "danish-spirit",
   "metadata": {},
   "source": [
    "#### Exercise 04. How many populations (level5 column) the dataset contains? (★☆☆)\n",
    "\n",
    "Print the names of the populations with a comma as a separator. For example:\n",
    "\n",
    "`> print(populations)`\n",
    "\n",
    "`population1, population2, population3, ...`"
   ]
  },
  {
   "cell_type": "code",
   "execution_count": 51,
   "id": "exciting-accreditation",
   "metadata": {},
   "outputs": [
    {
     "data": {
      "text/plain": [
       "'Arganda del Rey, Fuenlabrada, Boadilla del Monte, Las Rozas de Madrid,  Madrid Capital, Villaviciosa de Odón, Pinto, Valdemoro, Navalcarnero, Pozuelo de Alarcón, Torrejón de Ardoz, Navalagamella, San Sebastián de los Reyes, Rivas-vaciamadrid, Alpedrete, Móstoles, San Fernando de Henares, Coslada, Becerril de la Sierra, Alcalá de Henares, Chinchón, Parla, Alcorcón, El Escorial, Leganés, Pedrezuela, Majadahonda, Villanueva de la Cañada, Villanueva del Pardillo, Torrelodones, Moralzarzal, Mejorada del Campo, Aranjuez, Corpa, Getafe, Velilla de San Antonio, Sevilla la Nueva, San Martín de la Vega, Villalbilla, Collado Villalba, Alcobendas, El Molar (Madrid), Moraleja de Enmedio, Algete, Campo Real, Torrejón de la Calzada, Colmenar Viejo, Valdemorillo, Fuente El Saz de Jarama, Tres Cantos, Arroyomolinos (Madrid), Griñón, Paracuellos de Jarama, Guadarrama, Titulcia, Galapagar, Collado Mediano, Los Molinos, San Lorenzo de El Escorial, Loeches, San Martín de Valdeiglesias, Navas del Rey, Bustarviejo, Manzanares El Real, Carabaña, Casarrubuelos, Cercedilla, Fresnedillas de la Oliva, Valdemaqueda, Robledo de Chavela, Miraflores de la Sierra, Humanes de Madrid, Valdetorres de Jarama, San Agustín del Guadalix, Ciempozuelos, Camarma de Esteruelas, Torres de la Alameda, Talamanca de Jarama, El Atazar, Hoyo de Manzanares, El Boalo - Cerceda – Mataelpino, El Álamo, Valdilecha, Valdeolmos-Alalpardo, Guadalix de la Sierra, Belmonte de Tajo, El Vellón, Brunete, Redueña, Morata de Tajuña, Tielmes, Gargantilla del Lozoya, Meco, Venturada, Quijorna, Cenicientos, Torrejón de Velasco, Navacerrada, Santa María de la Alameda, Orusco de Tajuña, Daganzo de Arriba, Villamanta, Anchuelo, Valdaracete, Ajalvir, Los Santos de la Humosa, Villamanrique de Tajo, Colmenar de Oreja, Villa del Prado, Fuentidueña de Tajo, Colmenar del Arroyo, Valdelaguna, Cubas de la Sagra, Valdeavero, Aldea del Fresno, Ribatejada, Torrelaguna, Batres, Pezuela de las Torres, Colmenarejo, Serranillos del Valle, Cobeña, Soto del Real, El Berrueco, Villanueva de Perales, Fresno de Torote - Serracines, Pozuelo del Rey, Pelayos de la Presa, La Cabrera, Nuevo Baztán, Perales de Tajuña, Villaconejos, Villarejo de Salvanés, Cadalso de los Vidrios, Santorcaz, Madarcos, Garganta de los Montes, Puentes Viejas, Torremocha de Jarama, Valdemanco, Braojos, Lozoyuela-navas-sieteiglesias, Piñuécar-gandullas, Valdepiélagos, Valverde de Alcalá, Villar del Olmo, Villamantilla, Horcajo de la Sierra, Gascones, Zarzalejo, Villavieja del Lozoya, Brea de Tajo, Estremera, Chapinería, Navarredonda, Patones, Ambite, Navalafuente, Lozoya, Canencia, Cabanillas de la Sierra, Buitrago del Lozoya, Fresno de Torote, Robregordo, Pinilla del Valle, Rascafría, La Hiruela, Montejo de la Sierra'"
      ]
     },
     "execution_count": 51,
     "metadata": {},
     "output_type": "execute_result"
    }
   ],
   "source": [
    "# TODO\n",
    "poblaciones = \", \".join(ds['level5'].unique())\n",
    "poblaciones"
   ]
  },
  {
   "attachments": {},
   "cell_type": "markdown",
   "id": "crazy-blame",
   "metadata": {},
   "source": [
    "#### Exercise 05. Does the dataset contain NAs? (★☆☆)\n",
    "\n",
    "Print a boolean value (`True` or `False`) followed by the rows/cols that contains NAs."
   ]
  },
  {
   "cell_type": "code",
   "execution_count": 55,
   "id": "transparent-poetry",
   "metadata": {},
   "outputs": [
    {
     "name": "stdout",
     "output_type": "stream",
     "text": [
      "Unnamed: 0          False\n",
      "id_realEstates      False\n",
      "isNew               False\n",
      "realEstate_name      True\n",
      "phone_realEstate     True\n",
      "url_inmueble        False\n",
      "rooms                True\n",
      "bathrooms            True\n",
      "surface              True\n",
      "price               False\n",
      "date                False\n",
      "description          True\n",
      "address             False\n",
      "country             False\n",
      "level1              False\n",
      "level2              False\n",
      "level3              False\n",
      "level4               True\n",
      "level5              False\n",
      "level6               True\n",
      "level7               True\n",
      "level8               True\n",
      "upperLevel          False\n",
      "countryId           False\n",
      "level1Id            False\n",
      "level2Id            False\n",
      "level3Id            False\n",
      "level4Id            False\n",
      "level5Id            False\n",
      "level6Id            False\n",
      "level7Id            False\n",
      "level8Id            False\n",
      "accuracy            False\n",
      "latitude            False\n",
      "longitude           False\n",
      "zipCode              True\n",
      "customZone           True\n",
      "dtype: bool\n",
      "0        True\n",
      "1        True\n",
      "2        True\n",
      "3        True\n",
      "4        True\n",
      "         ... \n",
      "15330    True\n",
      "15331    True\n",
      "15332    True\n",
      "15333    True\n",
      "15334    True\n",
      "Length: 15335, dtype: bool\n"
     ]
    }
   ],
   "source": [
    "# TODO\n",
    "elementos_nan = ds.isna()\n",
    "#elementos_nan\n",
    "elementos_nan_columnas = elementos_nan.any()\n",
    "print(elementos_nan_columnas)\n",
    "elementos_nan_filas = elementos_nan.any(axis=1)\n",
    "print(elementos_nan_filas)"
   ]
  },
  {
   "attachments": {},
   "cell_type": "markdown",
   "id": "italic-hydrogen",
   "metadata": {},
   "source": [
    "#### Exercise 06. Delete the NAs of the dataset, if applicable (★★☆)\n",
    "\n",
    "Print a comparison between the dimensions of the original DataFrame versus the DataFrame after the deletions."
   ]
  },
  {
   "cell_type": "code",
   "execution_count": 57,
   "id": "administrative-roads",
   "metadata": {},
   "outputs": [
    {
     "name": "stdout",
     "output_type": "stream",
     "text": [
      "Empty DataFrame\n",
      "Columns: [Unnamed: 0, id_realEstates, isNew, realEstate_name, phone_realEstate, url_inmueble, rooms, bathrooms, surface, price, date, description, address, country, level1, level2, level3, level4, level5, level6, level7, level8, upperLevel, countryId, level1Id, level2Id, level3Id, level4Id, level5Id, level6Id, level7Id, level8Id, accuracy, latitude, longitude, zipCode, customZone]\n",
      "Index: []\n",
      "\n",
      "[0 rows x 37 columns]\n",
      "El tamaño del DataFrame ha cambiado.\n"
     ]
    }
   ],
   "source": [
    "# TODO\n",
    "ds_limpio = ds.dropna(axis=0)\n",
    "print(ds_limpio)\n",
    "if elementos_nan.shape == ds_limpio.shape:\n",
    "    print(\"El tamaño del DataFrame no ha cambiado.\")\n",
    "else:\n",
    "    print(\"El tamaño del DataFrame ha cambiado.\")\n"
   ]
  },
  {
   "attachments": {},
   "cell_type": "markdown",
   "id": "middle-china",
   "metadata": {},
   "source": [
    "#### Exercise 07. Which is the mean of prices in the population (level5 column) of \"Arroyomolinos (Madrid)\"? (★★☆)\n",
    "\n",
    "Print the obtained value."
   ]
  },
  {
   "cell_type": "code",
   "execution_count": 58,
   "id": "nuclear-belief",
   "metadata": {},
   "outputs": [
    {
     "ename": "TypeError",
     "evalue": "agg function failed [how->mean,dtype->object]",
     "output_type": "error",
     "traceback": [
      "\u001b[0;31m---------------------------------------------------------------------------\u001b[0m",
      "\u001b[0;31mTypeError\u001b[0m                                 Traceback (most recent call last)",
      "File \u001b[0;32m~/.local/lib/python3.11/site-packages/pandas/core/groupby/groupby.py:1942\u001b[0m, in \u001b[0;36mGroupBy._agg_py_fallback\u001b[0;34m(self, how, values, ndim, alt)\u001b[0m\n\u001b[1;32m   1941\u001b[0m \u001b[38;5;28;01mtry\u001b[39;00m:\n\u001b[0;32m-> 1942\u001b[0m     res_values \u001b[38;5;241m=\u001b[39m \u001b[38;5;28;43mself\u001b[39;49m\u001b[38;5;241;43m.\u001b[39;49m\u001b[43m_grouper\u001b[49m\u001b[38;5;241;43m.\u001b[39;49m\u001b[43magg_series\u001b[49m\u001b[43m(\u001b[49m\u001b[43mser\u001b[49m\u001b[43m,\u001b[49m\u001b[43m \u001b[49m\u001b[43malt\u001b[49m\u001b[43m,\u001b[49m\u001b[43m \u001b[49m\u001b[43mpreserve_dtype\u001b[49m\u001b[38;5;241;43m=\u001b[39;49m\u001b[38;5;28;43;01mTrue\u001b[39;49;00m\u001b[43m)\u001b[49m\n\u001b[1;32m   1943\u001b[0m \u001b[38;5;28;01mexcept\u001b[39;00m \u001b[38;5;167;01mException\u001b[39;00m \u001b[38;5;28;01mas\u001b[39;00m err:\n",
      "File \u001b[0;32m~/.local/lib/python3.11/site-packages/pandas/core/groupby/ops.py:864\u001b[0m, in \u001b[0;36mBaseGrouper.agg_series\u001b[0;34m(self, obj, func, preserve_dtype)\u001b[0m\n\u001b[1;32m    862\u001b[0m     preserve_dtype \u001b[38;5;241m=\u001b[39m \u001b[38;5;28;01mTrue\u001b[39;00m\n\u001b[0;32m--> 864\u001b[0m result \u001b[38;5;241m=\u001b[39m \u001b[38;5;28;43mself\u001b[39;49m\u001b[38;5;241;43m.\u001b[39;49m\u001b[43m_aggregate_series_pure_python\u001b[49m\u001b[43m(\u001b[49m\u001b[43mobj\u001b[49m\u001b[43m,\u001b[49m\u001b[43m \u001b[49m\u001b[43mfunc\u001b[49m\u001b[43m)\u001b[49m\n\u001b[1;32m    866\u001b[0m npvalues \u001b[38;5;241m=\u001b[39m lib\u001b[38;5;241m.\u001b[39mmaybe_convert_objects(result, try_float\u001b[38;5;241m=\u001b[39m\u001b[38;5;28;01mFalse\u001b[39;00m)\n",
      "File \u001b[0;32m~/.local/lib/python3.11/site-packages/pandas/core/groupby/ops.py:885\u001b[0m, in \u001b[0;36mBaseGrouper._aggregate_series_pure_python\u001b[0;34m(self, obj, func)\u001b[0m\n\u001b[1;32m    884\u001b[0m \u001b[38;5;28;01mfor\u001b[39;00m i, group \u001b[38;5;129;01min\u001b[39;00m \u001b[38;5;28menumerate\u001b[39m(splitter):\n\u001b[0;32m--> 885\u001b[0m     res \u001b[38;5;241m=\u001b[39m \u001b[43mfunc\u001b[49m\u001b[43m(\u001b[49m\u001b[43mgroup\u001b[49m\u001b[43m)\u001b[49m\n\u001b[1;32m    886\u001b[0m     res \u001b[38;5;241m=\u001b[39m extract_result(res)\n",
      "File \u001b[0;32m~/.local/lib/python3.11/site-packages/pandas/core/groupby/groupby.py:2454\u001b[0m, in \u001b[0;36mGroupBy.mean.<locals>.<lambda>\u001b[0;34m(x)\u001b[0m\n\u001b[1;32m   2451\u001b[0m \u001b[38;5;28;01melse\u001b[39;00m:\n\u001b[1;32m   2452\u001b[0m     result \u001b[38;5;241m=\u001b[39m \u001b[38;5;28mself\u001b[39m\u001b[38;5;241m.\u001b[39m_cython_agg_general(\n\u001b[1;32m   2453\u001b[0m         \u001b[38;5;124m\"\u001b[39m\u001b[38;5;124mmean\u001b[39m\u001b[38;5;124m\"\u001b[39m,\n\u001b[0;32m-> 2454\u001b[0m         alt\u001b[38;5;241m=\u001b[39m\u001b[38;5;28;01mlambda\u001b[39;00m x: \u001b[43mSeries\u001b[49m\u001b[43m(\u001b[49m\u001b[43mx\u001b[49m\u001b[43m,\u001b[49m\u001b[43m \u001b[49m\u001b[43mcopy\u001b[49m\u001b[38;5;241;43m=\u001b[39;49m\u001b[38;5;28;43;01mFalse\u001b[39;49;00m\u001b[43m)\u001b[49m\u001b[38;5;241;43m.\u001b[39;49m\u001b[43mmean\u001b[49m\u001b[43m(\u001b[49m\u001b[43mnumeric_only\u001b[49m\u001b[38;5;241;43m=\u001b[39;49m\u001b[43mnumeric_only\u001b[49m\u001b[43m)\u001b[49m,\n\u001b[1;32m   2455\u001b[0m         numeric_only\u001b[38;5;241m=\u001b[39mnumeric_only,\n\u001b[1;32m   2456\u001b[0m     )\n\u001b[1;32m   2457\u001b[0m     \u001b[38;5;28;01mreturn\u001b[39;00m result\u001b[38;5;241m.\u001b[39m__finalize__(\u001b[38;5;28mself\u001b[39m\u001b[38;5;241m.\u001b[39mobj, method\u001b[38;5;241m=\u001b[39m\u001b[38;5;124m\"\u001b[39m\u001b[38;5;124mgroupby\u001b[39m\u001b[38;5;124m\"\u001b[39m)\n",
      "File \u001b[0;32m~/.local/lib/python3.11/site-packages/pandas/core/series.py:6549\u001b[0m, in \u001b[0;36mSeries.mean\u001b[0;34m(self, axis, skipna, numeric_only, **kwargs)\u001b[0m\n\u001b[1;32m   6541\u001b[0m \u001b[38;5;129m@doc\u001b[39m(make_doc(\u001b[38;5;124m\"\u001b[39m\u001b[38;5;124mmean\u001b[39m\u001b[38;5;124m\"\u001b[39m, ndim\u001b[38;5;241m=\u001b[39m\u001b[38;5;241m1\u001b[39m))\n\u001b[1;32m   6542\u001b[0m \u001b[38;5;28;01mdef\u001b[39;00m \u001b[38;5;21mmean\u001b[39m(\n\u001b[1;32m   6543\u001b[0m     \u001b[38;5;28mself\u001b[39m,\n\u001b[0;32m   (...)\u001b[0m\n\u001b[1;32m   6547\u001b[0m     \u001b[38;5;241m*\u001b[39m\u001b[38;5;241m*\u001b[39mkwargs,\n\u001b[1;32m   6548\u001b[0m ):\n\u001b[0;32m-> 6549\u001b[0m     \u001b[38;5;28;01mreturn\u001b[39;00m \u001b[43mNDFrame\u001b[49m\u001b[38;5;241;43m.\u001b[39;49m\u001b[43mmean\u001b[49m\u001b[43m(\u001b[49m\u001b[38;5;28;43mself\u001b[39;49m\u001b[43m,\u001b[49m\u001b[43m \u001b[49m\u001b[43maxis\u001b[49m\u001b[43m,\u001b[49m\u001b[43m \u001b[49m\u001b[43mskipna\u001b[49m\u001b[43m,\u001b[49m\u001b[43m \u001b[49m\u001b[43mnumeric_only\u001b[49m\u001b[43m,\u001b[49m\u001b[43m \u001b[49m\u001b[38;5;241;43m*\u001b[39;49m\u001b[38;5;241;43m*\u001b[39;49m\u001b[43mkwargs\u001b[49m\u001b[43m)\u001b[49m\n",
      "File \u001b[0;32m~/.local/lib/python3.11/site-packages/pandas/core/generic.py:12420\u001b[0m, in \u001b[0;36mNDFrame.mean\u001b[0;34m(self, axis, skipna, numeric_only, **kwargs)\u001b[0m\n\u001b[1;32m  12413\u001b[0m \u001b[38;5;28;01mdef\u001b[39;00m \u001b[38;5;21mmean\u001b[39m(\n\u001b[1;32m  12414\u001b[0m     \u001b[38;5;28mself\u001b[39m,\n\u001b[1;32m  12415\u001b[0m     axis: Axis \u001b[38;5;241m|\u001b[39m \u001b[38;5;28;01mNone\u001b[39;00m \u001b[38;5;241m=\u001b[39m \u001b[38;5;241m0\u001b[39m,\n\u001b[0;32m   (...)\u001b[0m\n\u001b[1;32m  12418\u001b[0m     \u001b[38;5;241m*\u001b[39m\u001b[38;5;241m*\u001b[39mkwargs,\n\u001b[1;32m  12419\u001b[0m ) \u001b[38;5;241m-\u001b[39m\u001b[38;5;241m>\u001b[39m Series \u001b[38;5;241m|\u001b[39m \u001b[38;5;28mfloat\u001b[39m:\n\u001b[0;32m> 12420\u001b[0m     \u001b[38;5;28;01mreturn\u001b[39;00m \u001b[38;5;28;43mself\u001b[39;49m\u001b[38;5;241;43m.\u001b[39;49m\u001b[43m_stat_function\u001b[49m\u001b[43m(\u001b[49m\n\u001b[1;32m  12421\u001b[0m \u001b[43m        \u001b[49m\u001b[38;5;124;43m\"\u001b[39;49m\u001b[38;5;124;43mmean\u001b[39;49m\u001b[38;5;124;43m\"\u001b[39;49m\u001b[43m,\u001b[49m\u001b[43m \u001b[49m\u001b[43mnanops\u001b[49m\u001b[38;5;241;43m.\u001b[39;49m\u001b[43mnanmean\u001b[49m\u001b[43m,\u001b[49m\u001b[43m \u001b[49m\u001b[43maxis\u001b[49m\u001b[43m,\u001b[49m\u001b[43m \u001b[49m\u001b[43mskipna\u001b[49m\u001b[43m,\u001b[49m\u001b[43m \u001b[49m\u001b[43mnumeric_only\u001b[49m\u001b[43m,\u001b[49m\u001b[43m \u001b[49m\u001b[38;5;241;43m*\u001b[39;49m\u001b[38;5;241;43m*\u001b[39;49m\u001b[43mkwargs\u001b[49m\n\u001b[1;32m  12422\u001b[0m \u001b[43m    \u001b[49m\u001b[43m)\u001b[49m\n",
      "File \u001b[0;32m~/.local/lib/python3.11/site-packages/pandas/core/generic.py:12377\u001b[0m, in \u001b[0;36mNDFrame._stat_function\u001b[0;34m(self, name, func, axis, skipna, numeric_only, **kwargs)\u001b[0m\n\u001b[1;32m  12375\u001b[0m validate_bool_kwarg(skipna, \u001b[38;5;124m\"\u001b[39m\u001b[38;5;124mskipna\u001b[39m\u001b[38;5;124m\"\u001b[39m, none_allowed\u001b[38;5;241m=\u001b[39m\u001b[38;5;28;01mFalse\u001b[39;00m)\n\u001b[0;32m> 12377\u001b[0m \u001b[38;5;28;01mreturn\u001b[39;00m \u001b[38;5;28;43mself\u001b[39;49m\u001b[38;5;241;43m.\u001b[39;49m\u001b[43m_reduce\u001b[49m\u001b[43m(\u001b[49m\n\u001b[1;32m  12378\u001b[0m \u001b[43m    \u001b[49m\u001b[43mfunc\u001b[49m\u001b[43m,\u001b[49m\u001b[43m \u001b[49m\u001b[43mname\u001b[49m\u001b[38;5;241;43m=\u001b[39;49m\u001b[43mname\u001b[49m\u001b[43m,\u001b[49m\u001b[43m \u001b[49m\u001b[43maxis\u001b[49m\u001b[38;5;241;43m=\u001b[39;49m\u001b[43maxis\u001b[49m\u001b[43m,\u001b[49m\u001b[43m \u001b[49m\u001b[43mskipna\u001b[49m\u001b[38;5;241;43m=\u001b[39;49m\u001b[43mskipna\u001b[49m\u001b[43m,\u001b[49m\u001b[43m \u001b[49m\u001b[43mnumeric_only\u001b[49m\u001b[38;5;241;43m=\u001b[39;49m\u001b[43mnumeric_only\u001b[49m\n\u001b[1;32m  12379\u001b[0m \u001b[43m\u001b[49m\u001b[43m)\u001b[49m\n",
      "File \u001b[0;32m~/.local/lib/python3.11/site-packages/pandas/core/series.py:6457\u001b[0m, in \u001b[0;36mSeries._reduce\u001b[0;34m(self, op, name, axis, skipna, numeric_only, filter_type, **kwds)\u001b[0m\n\u001b[1;32m   6453\u001b[0m     \u001b[38;5;28;01mraise\u001b[39;00m \u001b[38;5;167;01mTypeError\u001b[39;00m(\n\u001b[1;32m   6454\u001b[0m         \u001b[38;5;124mf\u001b[39m\u001b[38;5;124m\"\u001b[39m\u001b[38;5;124mSeries.\u001b[39m\u001b[38;5;132;01m{\u001b[39;00mname\u001b[38;5;132;01m}\u001b[39;00m\u001b[38;5;124m does not allow \u001b[39m\u001b[38;5;132;01m{\u001b[39;00mkwd_name\u001b[38;5;132;01m}\u001b[39;00m\u001b[38;5;124m=\u001b[39m\u001b[38;5;132;01m{\u001b[39;00mnumeric_only\u001b[38;5;132;01m}\u001b[39;00m\u001b[38;5;124m \u001b[39m\u001b[38;5;124m\"\u001b[39m\n\u001b[1;32m   6455\u001b[0m         \u001b[38;5;124m\"\u001b[39m\u001b[38;5;124mwith non-numeric dtypes.\u001b[39m\u001b[38;5;124m\"\u001b[39m\n\u001b[1;32m   6456\u001b[0m     )\n\u001b[0;32m-> 6457\u001b[0m \u001b[38;5;28;01mreturn\u001b[39;00m \u001b[43mop\u001b[49m\u001b[43m(\u001b[49m\u001b[43mdelegate\u001b[49m\u001b[43m,\u001b[49m\u001b[43m \u001b[49m\u001b[43mskipna\u001b[49m\u001b[38;5;241;43m=\u001b[39;49m\u001b[43mskipna\u001b[49m\u001b[43m,\u001b[49m\u001b[43m \u001b[49m\u001b[38;5;241;43m*\u001b[39;49m\u001b[38;5;241;43m*\u001b[39;49m\u001b[43mkwds\u001b[49m\u001b[43m)\u001b[49m\n",
      "File \u001b[0;32m~/.local/lib/python3.11/site-packages/pandas/core/nanops.py:147\u001b[0m, in \u001b[0;36mbottleneck_switch.__call__.<locals>.f\u001b[0;34m(values, axis, skipna, **kwds)\u001b[0m\n\u001b[1;32m    146\u001b[0m \u001b[38;5;28;01melse\u001b[39;00m:\n\u001b[0;32m--> 147\u001b[0m     result \u001b[38;5;241m=\u001b[39m \u001b[43malt\u001b[49m\u001b[43m(\u001b[49m\u001b[43mvalues\u001b[49m\u001b[43m,\u001b[49m\u001b[43m \u001b[49m\u001b[43maxis\u001b[49m\u001b[38;5;241;43m=\u001b[39;49m\u001b[43maxis\u001b[49m\u001b[43m,\u001b[49m\u001b[43m \u001b[49m\u001b[43mskipna\u001b[49m\u001b[38;5;241;43m=\u001b[39;49m\u001b[43mskipna\u001b[49m\u001b[43m,\u001b[49m\u001b[43m \u001b[49m\u001b[38;5;241;43m*\u001b[39;49m\u001b[38;5;241;43m*\u001b[39;49m\u001b[43mkwds\u001b[49m\u001b[43m)\u001b[49m\n\u001b[1;32m    149\u001b[0m \u001b[38;5;28;01mreturn\u001b[39;00m result\n",
      "File \u001b[0;32m~/.local/lib/python3.11/site-packages/pandas/core/nanops.py:404\u001b[0m, in \u001b[0;36m_datetimelike_compat.<locals>.new_func\u001b[0;34m(values, axis, skipna, mask, **kwargs)\u001b[0m\n\u001b[1;32m    402\u001b[0m     mask \u001b[38;5;241m=\u001b[39m isna(values)\n\u001b[0;32m--> 404\u001b[0m result \u001b[38;5;241m=\u001b[39m \u001b[43mfunc\u001b[49m\u001b[43m(\u001b[49m\u001b[43mvalues\u001b[49m\u001b[43m,\u001b[49m\u001b[43m \u001b[49m\u001b[43maxis\u001b[49m\u001b[38;5;241;43m=\u001b[39;49m\u001b[43maxis\u001b[49m\u001b[43m,\u001b[49m\u001b[43m \u001b[49m\u001b[43mskipna\u001b[49m\u001b[38;5;241;43m=\u001b[39;49m\u001b[43mskipna\u001b[49m\u001b[43m,\u001b[49m\u001b[43m \u001b[49m\u001b[43mmask\u001b[49m\u001b[38;5;241;43m=\u001b[39;49m\u001b[43mmask\u001b[49m\u001b[43m,\u001b[49m\u001b[43m \u001b[49m\u001b[38;5;241;43m*\u001b[39;49m\u001b[38;5;241;43m*\u001b[39;49m\u001b[43mkwargs\u001b[49m\u001b[43m)\u001b[49m\n\u001b[1;32m    406\u001b[0m \u001b[38;5;28;01mif\u001b[39;00m datetimelike:\n",
      "File \u001b[0;32m~/.local/lib/python3.11/site-packages/pandas/core/nanops.py:720\u001b[0m, in \u001b[0;36mnanmean\u001b[0;34m(values, axis, skipna, mask)\u001b[0m\n\u001b[1;32m    719\u001b[0m the_sum \u001b[38;5;241m=\u001b[39m values\u001b[38;5;241m.\u001b[39msum(axis, dtype\u001b[38;5;241m=\u001b[39mdtype_sum)\n\u001b[0;32m--> 720\u001b[0m the_sum \u001b[38;5;241m=\u001b[39m \u001b[43m_ensure_numeric\u001b[49m\u001b[43m(\u001b[49m\u001b[43mthe_sum\u001b[49m\u001b[43m)\u001b[49m\n\u001b[1;32m    722\u001b[0m \u001b[38;5;28;01mif\u001b[39;00m axis \u001b[38;5;129;01mis\u001b[39;00m \u001b[38;5;129;01mnot\u001b[39;00m \u001b[38;5;28;01mNone\u001b[39;00m \u001b[38;5;129;01mand\u001b[39;00m \u001b[38;5;28mgetattr\u001b[39m(the_sum, \u001b[38;5;124m\"\u001b[39m\u001b[38;5;124mndim\u001b[39m\u001b[38;5;124m\"\u001b[39m, \u001b[38;5;28;01mFalse\u001b[39;00m):\n",
      "File \u001b[0;32m~/.local/lib/python3.11/site-packages/pandas/core/nanops.py:1701\u001b[0m, in \u001b[0;36m_ensure_numeric\u001b[0;34m(x)\u001b[0m\n\u001b[1;32m   1699\u001b[0m \u001b[38;5;28;01mif\u001b[39;00m \u001b[38;5;28misinstance\u001b[39m(x, \u001b[38;5;28mstr\u001b[39m):\n\u001b[1;32m   1700\u001b[0m     \u001b[38;5;66;03m# GH#44008, GH#36703 avoid casting e.g. strings to numeric\u001b[39;00m\n\u001b[0;32m-> 1701\u001b[0m     \u001b[38;5;28;01mraise\u001b[39;00m \u001b[38;5;167;01mTypeError\u001b[39;00m(\u001b[38;5;124mf\u001b[39m\u001b[38;5;124m\"\u001b[39m\u001b[38;5;124mCould not convert string \u001b[39m\u001b[38;5;124m'\u001b[39m\u001b[38;5;132;01m{\u001b[39;00mx\u001b[38;5;132;01m}\u001b[39;00m\u001b[38;5;124m'\u001b[39m\u001b[38;5;124m to numeric\u001b[39m\u001b[38;5;124m\"\u001b[39m)\n\u001b[1;32m   1702\u001b[0m \u001b[38;5;28;01mtry\u001b[39;00m:\n",
      "\u001b[0;31mTypeError\u001b[0m: Could not convert string 'ParlaSan Sebastián de los ReyesGetafe Madrid CapitalPozuelo de AlarcónBoadilla del MonteGetafe Madrid Capital Madrid CapitalMóstolesMajadahondaVillanueva del PardilloTorrejón de la Calzada Madrid Capital Madrid CapitalTorrejón de Ardoz Madrid CapitalGetafeGetafeGetafePozuelo de AlarcónMóstolesGetafeVillanueva del Pardillo Madrid CapitalArroyomolinos (Madrid)Torrejón de ArdozRivas-vaciamadrid Madrid CapitalCamarma de EsteruelasMoraleja de EnmedioTorrejón de ArdozTorrejón de ArdozGetafePozuelo de AlarcónGetafePozuelo de AlarcónGetafeBrunetePozuelo de AlarcónSan Sebastián de los ReyesGetafeGetafeMóstolesEl EscorialCoslada Madrid CapitalGetafe Madrid CapitalArroyomolinos (Madrid)Camarma de Esteruelas Madrid CapitalCorpaPintoVillanueva del PardilloVillanueva del PardilloPintoAldea del FresnoParlaAlcobendas' to numeric",
      "\nThe above exception was the direct cause of the following exception:\n",
      "\u001b[0;31mTypeError\u001b[0m                                 Traceback (most recent call last)",
      "Cell \u001b[0;32mIn[58], line 2\u001b[0m\n\u001b[1;32m      1\u001b[0m \u001b[38;5;66;03m# TODO\u001b[39;00m\n\u001b[0;32m----> 2\u001b[0m media_precio_arroyomolinos \u001b[38;5;241m=\u001b[39m \u001b[43mds\u001b[49m\u001b[38;5;241;43m.\u001b[39;49m\u001b[43mgroupby\u001b[49m\u001b[43m(\u001b[49m\u001b[38;5;124;43m\"\u001b[39;49m\u001b[38;5;124;43mprice\u001b[39;49m\u001b[38;5;124;43m\"\u001b[39;49m\u001b[43m)\u001b[49m\u001b[43m[\u001b[49m\u001b[38;5;124;43m'\u001b[39;49m\u001b[38;5;124;43mlevel5\u001b[39;49m\u001b[38;5;124;43m'\u001b[39;49m\u001b[43m]\u001b[49m\u001b[38;5;241;43m.\u001b[39;49m\u001b[43mmean\u001b[49m\u001b[43m(\u001b[49m\u001b[43m)\u001b[49m\n\u001b[1;32m      3\u001b[0m media_precio_arroyomolinos\n",
      "File \u001b[0;32m~/.local/lib/python3.11/site-packages/pandas/core/groupby/groupby.py:2452\u001b[0m, in \u001b[0;36mGroupBy.mean\u001b[0;34m(self, numeric_only, engine, engine_kwargs)\u001b[0m\n\u001b[1;32m   2445\u001b[0m     \u001b[38;5;28;01mreturn\u001b[39;00m \u001b[38;5;28mself\u001b[39m\u001b[38;5;241m.\u001b[39m_numba_agg_general(\n\u001b[1;32m   2446\u001b[0m         grouped_mean,\n\u001b[1;32m   2447\u001b[0m         executor\u001b[38;5;241m.\u001b[39mfloat_dtype_mapping,\n\u001b[1;32m   2448\u001b[0m         engine_kwargs,\n\u001b[1;32m   2449\u001b[0m         min_periods\u001b[38;5;241m=\u001b[39m\u001b[38;5;241m0\u001b[39m,\n\u001b[1;32m   2450\u001b[0m     )\n\u001b[1;32m   2451\u001b[0m \u001b[38;5;28;01melse\u001b[39;00m:\n\u001b[0;32m-> 2452\u001b[0m     result \u001b[38;5;241m=\u001b[39m \u001b[38;5;28;43mself\u001b[39;49m\u001b[38;5;241;43m.\u001b[39;49m\u001b[43m_cython_agg_general\u001b[49m\u001b[43m(\u001b[49m\n\u001b[1;32m   2453\u001b[0m \u001b[43m        \u001b[49m\u001b[38;5;124;43m\"\u001b[39;49m\u001b[38;5;124;43mmean\u001b[39;49m\u001b[38;5;124;43m\"\u001b[39;49m\u001b[43m,\u001b[49m\n\u001b[1;32m   2454\u001b[0m \u001b[43m        \u001b[49m\u001b[43malt\u001b[49m\u001b[38;5;241;43m=\u001b[39;49m\u001b[38;5;28;43;01mlambda\u001b[39;49;00m\u001b[43m \u001b[49m\u001b[43mx\u001b[49m\u001b[43m:\u001b[49m\u001b[43m \u001b[49m\u001b[43mSeries\u001b[49m\u001b[43m(\u001b[49m\u001b[43mx\u001b[49m\u001b[43m,\u001b[49m\u001b[43m \u001b[49m\u001b[43mcopy\u001b[49m\u001b[38;5;241;43m=\u001b[39;49m\u001b[38;5;28;43;01mFalse\u001b[39;49;00m\u001b[43m)\u001b[49m\u001b[38;5;241;43m.\u001b[39;49m\u001b[43mmean\u001b[49m\u001b[43m(\u001b[49m\u001b[43mnumeric_only\u001b[49m\u001b[38;5;241;43m=\u001b[39;49m\u001b[43mnumeric_only\u001b[49m\u001b[43m)\u001b[49m\u001b[43m,\u001b[49m\n\u001b[1;32m   2455\u001b[0m \u001b[43m        \u001b[49m\u001b[43mnumeric_only\u001b[49m\u001b[38;5;241;43m=\u001b[39;49m\u001b[43mnumeric_only\u001b[49m\u001b[43m,\u001b[49m\n\u001b[1;32m   2456\u001b[0m \u001b[43m    \u001b[49m\u001b[43m)\u001b[49m\n\u001b[1;32m   2457\u001b[0m     \u001b[38;5;28;01mreturn\u001b[39;00m result\u001b[38;5;241m.\u001b[39m__finalize__(\u001b[38;5;28mself\u001b[39m\u001b[38;5;241m.\u001b[39mobj, method\u001b[38;5;241m=\u001b[39m\u001b[38;5;124m\"\u001b[39m\u001b[38;5;124mgroupby\u001b[39m\u001b[38;5;124m\"\u001b[39m)\n",
      "File \u001b[0;32m~/.local/lib/python3.11/site-packages/pandas/core/groupby/groupby.py:1998\u001b[0m, in \u001b[0;36mGroupBy._cython_agg_general\u001b[0;34m(self, how, alt, numeric_only, min_count, **kwargs)\u001b[0m\n\u001b[1;32m   1995\u001b[0m     result \u001b[38;5;241m=\u001b[39m \u001b[38;5;28mself\u001b[39m\u001b[38;5;241m.\u001b[39m_agg_py_fallback(how, values, ndim\u001b[38;5;241m=\u001b[39mdata\u001b[38;5;241m.\u001b[39mndim, alt\u001b[38;5;241m=\u001b[39malt)\n\u001b[1;32m   1996\u001b[0m     \u001b[38;5;28;01mreturn\u001b[39;00m result\n\u001b[0;32m-> 1998\u001b[0m new_mgr \u001b[38;5;241m=\u001b[39m \u001b[43mdata\u001b[49m\u001b[38;5;241;43m.\u001b[39;49m\u001b[43mgrouped_reduce\u001b[49m\u001b[43m(\u001b[49m\u001b[43marray_func\u001b[49m\u001b[43m)\u001b[49m\n\u001b[1;32m   1999\u001b[0m res \u001b[38;5;241m=\u001b[39m \u001b[38;5;28mself\u001b[39m\u001b[38;5;241m.\u001b[39m_wrap_agged_manager(new_mgr)\n\u001b[1;32m   2000\u001b[0m \u001b[38;5;28;01mif\u001b[39;00m how \u001b[38;5;129;01min\u001b[39;00m [\u001b[38;5;124m\"\u001b[39m\u001b[38;5;124midxmin\u001b[39m\u001b[38;5;124m\"\u001b[39m, \u001b[38;5;124m\"\u001b[39m\u001b[38;5;124midxmax\u001b[39m\u001b[38;5;124m\"\u001b[39m]:\n",
      "File \u001b[0;32m~/.local/lib/python3.11/site-packages/pandas/core/internals/base.py:367\u001b[0m, in \u001b[0;36mSingleDataManager.grouped_reduce\u001b[0;34m(self, func)\u001b[0m\n\u001b[1;32m    365\u001b[0m \u001b[38;5;28;01mdef\u001b[39;00m \u001b[38;5;21mgrouped_reduce\u001b[39m(\u001b[38;5;28mself\u001b[39m, func):\n\u001b[1;32m    366\u001b[0m     arr \u001b[38;5;241m=\u001b[39m \u001b[38;5;28mself\u001b[39m\u001b[38;5;241m.\u001b[39marray\n\u001b[0;32m--> 367\u001b[0m     res \u001b[38;5;241m=\u001b[39m \u001b[43mfunc\u001b[49m\u001b[43m(\u001b[49m\u001b[43marr\u001b[49m\u001b[43m)\u001b[49m\n\u001b[1;32m    368\u001b[0m     index \u001b[38;5;241m=\u001b[39m default_index(\u001b[38;5;28mlen\u001b[39m(res))\n\u001b[1;32m    370\u001b[0m     mgr \u001b[38;5;241m=\u001b[39m \u001b[38;5;28mtype\u001b[39m(\u001b[38;5;28mself\u001b[39m)\u001b[38;5;241m.\u001b[39mfrom_array(res, index)\n",
      "File \u001b[0;32m~/.local/lib/python3.11/site-packages/pandas/core/groupby/groupby.py:1995\u001b[0m, in \u001b[0;36mGroupBy._cython_agg_general.<locals>.array_func\u001b[0;34m(values)\u001b[0m\n\u001b[1;32m   1992\u001b[0m     \u001b[38;5;28;01mreturn\u001b[39;00m result\n\u001b[1;32m   1994\u001b[0m \u001b[38;5;28;01massert\u001b[39;00m alt \u001b[38;5;129;01mis\u001b[39;00m \u001b[38;5;129;01mnot\u001b[39;00m \u001b[38;5;28;01mNone\u001b[39;00m\n\u001b[0;32m-> 1995\u001b[0m result \u001b[38;5;241m=\u001b[39m \u001b[38;5;28;43mself\u001b[39;49m\u001b[38;5;241;43m.\u001b[39;49m\u001b[43m_agg_py_fallback\u001b[49m\u001b[43m(\u001b[49m\u001b[43mhow\u001b[49m\u001b[43m,\u001b[49m\u001b[43m \u001b[49m\u001b[43mvalues\u001b[49m\u001b[43m,\u001b[49m\u001b[43m \u001b[49m\u001b[43mndim\u001b[49m\u001b[38;5;241;43m=\u001b[39;49m\u001b[43mdata\u001b[49m\u001b[38;5;241;43m.\u001b[39;49m\u001b[43mndim\u001b[49m\u001b[43m,\u001b[49m\u001b[43m \u001b[49m\u001b[43malt\u001b[49m\u001b[38;5;241;43m=\u001b[39;49m\u001b[43malt\u001b[49m\u001b[43m)\u001b[49m\n\u001b[1;32m   1996\u001b[0m \u001b[38;5;28;01mreturn\u001b[39;00m result\n",
      "File \u001b[0;32m~/.local/lib/python3.11/site-packages/pandas/core/groupby/groupby.py:1946\u001b[0m, in \u001b[0;36mGroupBy._agg_py_fallback\u001b[0;34m(self, how, values, ndim, alt)\u001b[0m\n\u001b[1;32m   1944\u001b[0m     msg \u001b[38;5;241m=\u001b[39m \u001b[38;5;124mf\u001b[39m\u001b[38;5;124m\"\u001b[39m\u001b[38;5;124magg function failed [how->\u001b[39m\u001b[38;5;132;01m{\u001b[39;00mhow\u001b[38;5;132;01m}\u001b[39;00m\u001b[38;5;124m,dtype->\u001b[39m\u001b[38;5;132;01m{\u001b[39;00mser\u001b[38;5;241m.\u001b[39mdtype\u001b[38;5;132;01m}\u001b[39;00m\u001b[38;5;124m]\u001b[39m\u001b[38;5;124m\"\u001b[39m\n\u001b[1;32m   1945\u001b[0m     \u001b[38;5;66;03m# preserve the kind of exception that raised\u001b[39;00m\n\u001b[0;32m-> 1946\u001b[0m     \u001b[38;5;28;01mraise\u001b[39;00m \u001b[38;5;28mtype\u001b[39m(err)(msg) \u001b[38;5;28;01mfrom\u001b[39;00m \u001b[38;5;21;01merr\u001b[39;00m\n\u001b[1;32m   1948\u001b[0m \u001b[38;5;28;01mif\u001b[39;00m ser\u001b[38;5;241m.\u001b[39mdtype \u001b[38;5;241m==\u001b[39m \u001b[38;5;28mobject\u001b[39m:\n\u001b[1;32m   1949\u001b[0m     res_values \u001b[38;5;241m=\u001b[39m res_values\u001b[38;5;241m.\u001b[39mastype(\u001b[38;5;28mobject\u001b[39m, copy\u001b[38;5;241m=\u001b[39m\u001b[38;5;28;01mFalse\u001b[39;00m)\n",
      "\u001b[0;31mTypeError\u001b[0m: agg function failed [how->mean,dtype->object]"
     ]
    }
   ],
   "source": [
    "# TODO\n",
    "media_precio_arroyomolinos = ds.groupby(\"price\")['level5'].mean()\n",
    "media_precio_arroyomolinos"
   ]
  },
  {
   "attachments": {},
   "cell_type": "markdown",
   "id": "concerned-radical",
   "metadata": {},
   "source": [
    "#### Exercise 08. Plot the histogram of prices for the population (level5 column) of \"Arroyomolinos (Madrid)\" and explain what you observe (★★☆)\n",
    "\n",
    "Print the histogram of the prices and write in the Markdown cell a brief analysis about the plot."
   ]
  },
  {
   "cell_type": "code",
   "execution_count": null,
   "id": "sudden-message",
   "metadata": {},
   "outputs": [],
   "source": [
    "# TODO: Code"
   ]
  },
  {
   "attachments": {},
   "cell_type": "markdown",
   "id": "impressed-combination",
   "metadata": {},
   "source": [
    "**TODO: Markdown**. To write here, double-click on this cell, remove this content and place the text you want to write. Then, execute the cell."
   ]
  },
  {
   "attachments": {},
   "cell_type": "markdown",
   "id": "actual-edinburgh",
   "metadata": {},
   "source": [
    "#### Exercise 09. Are the average prices of \"Valdemorillo\" and \"Galapagar\" the same? (★★☆)\n",
    "\n",
    "Print both average prices and then write a conclusion about them."
   ]
  },
  {
   "cell_type": "code",
   "execution_count": null,
   "id": "numeric-commerce",
   "metadata": {},
   "outputs": [],
   "source": [
    "# TODO"
   ]
  },
  {
   "attachments": {},
   "cell_type": "markdown",
   "id": "lonely-article",
   "metadata": {},
   "source": [
    "#### Exercise 10. Are the average prices per square meter (price/m2) of \"Valdemorillo\" and \"Galapagar\" the same? (★★☆)\n",
    "\n",
    "Print both average prices and then write a conclusion about it.\n",
    "\n",
    "Hint: Create a new column called `pps` (price per square meter) and then analyze the values."
   ]
  },
  {
   "cell_type": "code",
   "execution_count": null,
   "id": "hourly-globe",
   "metadata": {},
   "outputs": [],
   "source": [
    "# TODO"
   ]
  },
  {
   "attachments": {},
   "cell_type": "markdown",
   "id": "pleasant-invite",
   "metadata": {},
   "source": [
    "#### Exercise 11. Analyze the relation between the surface and the price of the houses (★★☆)\n",
    "\n",
    "Hint: You can make a `scatter plot`, then write a conclusion about it."
   ]
  },
  {
   "cell_type": "code",
   "execution_count": null,
   "id": "common-drilling",
   "metadata": {},
   "outputs": [],
   "source": [
    "# TODO: Code"
   ]
  },
  {
   "attachments": {},
   "cell_type": "markdown",
   "id": "ahead-liquid",
   "metadata": {},
   "source": [
    "**TODO: Markdown**. To write here, double-click on this cell, remove this content and place the text you want to write. Then, execute the cell."
   ]
  },
  {
   "attachments": {},
   "cell_type": "markdown",
   "id": "coordinate-sunrise",
   "metadata": {},
   "source": [
    "#### Exercise 12. How many real estate agencies does the dataset contain? (★★☆)\n",
    "\n",
    "Print the obtained value."
   ]
  },
  {
   "cell_type": "code",
   "execution_count": null,
   "id": "valid-honolulu",
   "metadata": {},
   "outputs": [],
   "source": [
    "# TODO"
   ]
  },
  {
   "attachments": {},
   "cell_type": "markdown",
   "id": "binding-ebony",
   "metadata": {},
   "source": [
    "#### Exercise 13. Which is the population (level5 column) that contains the most houses? (★★☆)\n",
    "\n",
    "Print both the population and the number of houses."
   ]
  },
  {
   "cell_type": "code",
   "execution_count": null,
   "id": "static-perry",
   "metadata": {},
   "outputs": [],
   "source": [
    "# TODO"
   ]
  },
  {
   "attachments": {},
   "cell_type": "markdown",
   "id": "entire-classification",
   "metadata": {},
   "source": [
    "#### Exercise 14. Now let's work with the \"south belt\" of Madrid. Make a subset of the original DataFrame that contains the following populations (level5 column): \"Fuenlabrada\", \"Leganés\", \"Getafe\", \"Alcorcón\" (★★☆)\n",
    "\n",
    "Hint: Filter the original DataFrame using the column `level5` and the function `isin`."
   ]
  },
  {
   "cell_type": "code",
   "execution_count": null,
   "id": "binary-input",
   "metadata": {},
   "outputs": [],
   "source": [
    "# TODO"
   ]
  },
  {
   "attachments": {},
   "cell_type": "markdown",
   "id": "severe-fisher",
   "metadata": {},
   "source": [
    "#### Exercise 15. Make a bar plot of the median of the prices and explain what you observe (you must use the subset obtained in Exercise 14) (★★★)\n",
    "\n",
    "Print the bar of the median of the prices and write in the Markdown cell a brief analysis about the plot."
   ]
  },
  {
   "cell_type": "code",
   "execution_count": null,
   "id": "lyric-bunch",
   "metadata": {},
   "outputs": [],
   "source": [
    "# TODO: Code"
   ]
  },
  {
   "attachments": {},
   "cell_type": "markdown",
   "id": "sublime-newspaper",
   "metadata": {},
   "source": [
    "**TODO: Markdown**. To write here, double-click on this cell, remove this content and place the text you want to write. Then, execute the cell."
   ]
  },
  {
   "attachments": {},
   "cell_type": "markdown",
   "id": "speaking-diamond",
   "metadata": {},
   "source": [
    "#### Exercise 16. Calculate the sample mean and variance of the variables: price, rooms, surface area and bathrooms (you must use the subset obtained in Exercise 14) (★★★)\n",
    "\n",
    "Print both values for each variable."
   ]
  },
  {
   "cell_type": "code",
   "execution_count": null,
   "id": "random-feeling",
   "metadata": {},
   "outputs": [],
   "source": [
    "# TODO"
   ]
  },
  {
   "attachments": {},
   "cell_type": "markdown",
   "id": "revolutionary-matrix",
   "metadata": {},
   "source": [
    "#### Exercise 17. What is the most expensive house in each population? You must use the subset obtained in Exercise 14 (★★☆)\n",
    "\n",
    "Print both the address and the price of the selected house of each population. You can print a DataFrame or a single line for each population."
   ]
  },
  {
   "cell_type": "code",
   "execution_count": null,
   "id": "fifteen-browse",
   "metadata": {},
   "outputs": [],
   "source": [
    "# TODO"
   ]
  },
  {
   "attachments": {},
   "cell_type": "markdown",
   "id": "activated-knight",
   "metadata": {},
   "source": [
    "#### Exercise 18. Normalize the variable of prices for each population and plot the 4 histograms in the same plot (you must use the subset obtained in Exercise 14) (★★★)\n",
    "\n",
    "For the normalization method, you can use the one you consider; there is not a single correct answer to this question. Print the plot and write in the Markdown cell a brief analysis about the plot.\n",
    "\n",
    "Hint: You can help yourself by reviewing the *multihist* demo of Matplotlib."
   ]
  },
  {
   "cell_type": "code",
   "execution_count": null,
   "id": "civic-meditation",
   "metadata": {},
   "outputs": [],
   "source": [
    "# TODO"
   ]
  },
  {
   "attachments": {},
   "cell_type": "markdown",
   "id": "precise-heavy",
   "metadata": {},
   "source": [
    "**TODO: Markdown**. To write here, double-click on this cell, remove this content and place the text you want to write. Then, execute the cell."
   ]
  },
  {
   "attachments": {},
   "cell_type": "markdown",
   "id": "patent-jonathan",
   "metadata": {},
   "source": [
    "#### Exercise 19. What can you say about the price per square meter (price/m2) between the towns of \"Getafe\" and \"Alcorcón\"? You must use the subset obtained in Exercise 14 (★★☆)\n",
    "\n",
    "Hint: Create a new column called `pps` (price per square meter) and then analyze the values."
   ]
  },
  {
   "cell_type": "code",
   "execution_count": null,
   "id": "initial-liverpool",
   "metadata": {},
   "outputs": [],
   "source": [
    "# TODO"
   ]
  },
  {
   "attachments": {},
   "cell_type": "markdown",
   "id": "enhanced-moscow",
   "metadata": {},
   "source": [
    "#### Exercise 20. Make the same plot for 4 different populations (level5 column) and rearrange them on the same graph. You must use the subset obtained in Exercise 14 (★★☆)\n",
    " \n",
    "Hint: Make a scatter plot of each population using subplots."
   ]
  },
  {
   "cell_type": "code",
   "execution_count": null,
   "id": "accepting-airfare",
   "metadata": {},
   "outputs": [],
   "source": [
    "# TODO"
   ]
  },
  {
   "attachments": {},
   "cell_type": "markdown",
   "id": "blocked-effects",
   "metadata": {},
   "source": [
    "#### Exercise 21. Make a plot of the coordinates (latitude and longitude columns) of the south belt of Madrid by color of each population (you must use the subset obtained in Exercise 14) (★★★★)\n",
    "\n",
    "Execute the following cell, and then start coding in the next one. You must implement a simple code that transforms the coordinates columns in a Python dictionary (add more information if needed) and then add it to the map"
   ]
  },
  {
   "cell_type": "code",
   "execution_count": null,
   "id": "headed-privacy",
   "metadata": {},
   "outputs": [
    {
     "ename": "AttributeError",
     "evalue": "Stamen",
     "output_type": "error",
     "traceback": [
      "\u001b[0;31m---------------------------------------------------------------------------\u001b[0m",
      "\u001b[0;31mKeyError\u001b[0m                                  Traceback (most recent call last)",
      "File \u001b[0;32m~/.local/lib/python3.11/site-packages/xyzservices/lib.py:45\u001b[0m, in \u001b[0;36mBunch.__getattr__\u001b[0;34m(self, key)\u001b[0m\n\u001b[1;32m     44\u001b[0m \u001b[38;5;28;01mtry\u001b[39;00m:\n\u001b[0;32m---> 45\u001b[0m     \u001b[38;5;28;01mreturn\u001b[39;00m \u001b[38;5;28;43mself\u001b[39;49m\u001b[38;5;241;43m.\u001b[39;49m\u001b[38;5;21;43m__getitem__\u001b[39;49m\u001b[43m(\u001b[49m\u001b[43mkey\u001b[49m\u001b[43m)\u001b[49m\n\u001b[1;32m     46\u001b[0m \u001b[38;5;28;01mexcept\u001b[39;00m \u001b[38;5;167;01mKeyError\u001b[39;00m \u001b[38;5;28;01mas\u001b[39;00m err:\n",
      "\u001b[0;31mKeyError\u001b[0m: 'Stamen'",
      "\nThe above exception was the direct cause of the following exception:\n",
      "\u001b[0;31mAttributeError\u001b[0m                            Traceback (most recent call last)",
      "Cell \u001b[0;32mIn[23], line 6\u001b[0m\n\u001b[1;32m      1\u001b[0m \u001b[38;5;28;01mfrom\u001b[39;00m \u001b[38;5;21;01mipyleaflet\u001b[39;00m \u001b[38;5;28;01mimport\u001b[39;00m Map, basemaps\n\u001b[1;32m      3\u001b[0m \u001b[38;5;66;03m# Map centered on (60 degrees latitude and -2.2 degrees longitude)\u001b[39;00m\n\u001b[1;32m      4\u001b[0m \u001b[38;5;66;03m# Latitude, longitude\u001b[39;00m\n\u001b[1;32m      5\u001b[0m \u001b[38;5;28mmap\u001b[39m \u001b[38;5;241m=\u001b[39m Map(center \u001b[38;5;241m=\u001b[39m (\u001b[38;5;241m60\u001b[39m, \u001b[38;5;241m-\u001b[39m\u001b[38;5;241m2.2\u001b[39m), zoom \u001b[38;5;241m=\u001b[39m \u001b[38;5;241m2\u001b[39m, min_zoom \u001b[38;5;241m=\u001b[39m \u001b[38;5;241m1\u001b[39m, max_zoom \u001b[38;5;241m=\u001b[39m \u001b[38;5;241m20\u001b[39m, \n\u001b[0;32m----> 6\u001b[0m     basemap\u001b[38;5;241m=\u001b[39m\u001b[43mbasemaps\u001b[49m\u001b[38;5;241;43m.\u001b[39;49m\u001b[43mStamen\u001b[49m\u001b[38;5;241m.\u001b[39mTerrain)\n\u001b[1;32m      7\u001b[0m \u001b[38;5;28mmap\u001b[39m\n",
      "File \u001b[0;32m~/.local/lib/python3.11/site-packages/xyzservices/lib.py:47\u001b[0m, in \u001b[0;36mBunch.__getattr__\u001b[0;34m(self, key)\u001b[0m\n\u001b[1;32m     45\u001b[0m     \u001b[38;5;28;01mreturn\u001b[39;00m \u001b[38;5;28mself\u001b[39m\u001b[38;5;241m.\u001b[39m\u001b[38;5;21m__getitem__\u001b[39m(key)\n\u001b[1;32m     46\u001b[0m \u001b[38;5;28;01mexcept\u001b[39;00m \u001b[38;5;167;01mKeyError\u001b[39;00m \u001b[38;5;28;01mas\u001b[39;00m err:\n\u001b[0;32m---> 47\u001b[0m     \u001b[38;5;28;01mraise\u001b[39;00m \u001b[38;5;167;01mAttributeError\u001b[39;00m(key) \u001b[38;5;28;01mfrom\u001b[39;00m \u001b[38;5;21;01merr\u001b[39;00m\n",
      "\u001b[0;31mAttributeError\u001b[0m: Stamen"
     ]
    }
   ],
   "source": [
    "from ipyleaflet import Map, basemaps\n",
    "\n",
    "# Map centered on (60 degrees latitude and -2.2 degrees longitude)\n",
    "# Latitude, longitude\n",
    "map = Map(center = (60, -2.2), zoom = 2, min_zoom = 1, max_zoom = 20, \n",
    "    basemap=basemaps.Stamen.Terrain)\n",
    "map"
   ]
  },
  {
   "cell_type": "code",
   "execution_count": null,
   "id": "present-mistress",
   "metadata": {},
   "outputs": [],
   "source": [
    "## HERE: plot the coordinates of the estates\n",
    "\n",
    "## PUT HERE YOUR CODE:\n"
   ]
  }
 ],
 "metadata": {
  "kernelspec": {
   "display_name": "Python 3",
   "language": "python",
   "name": "python3"
  },
  "language_info": {
   "codemirror_mode": {
    "name": "ipython",
    "version": 3
   },
   "file_extension": ".py",
   "mimetype": "text/x-python",
   "name": "python",
   "nbconvert_exporter": "python",
   "pygments_lexer": "ipython3",
   "version": "3.11.4"
  }
 },
 "nbformat": 4,
 "nbformat_minor": 5
}
