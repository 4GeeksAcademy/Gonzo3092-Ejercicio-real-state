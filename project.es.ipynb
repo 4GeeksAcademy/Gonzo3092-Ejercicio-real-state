{
  "cells": [
    {
      "attachments": {},
      "cell_type": "markdown",
      "id": "innocent-university",
      "metadata": {},
      "source": [
        "# Limpieza de bienes raíces\n",
        "\n",
        "Este es un conjunto de datos (dataset) reales que fue descargado usando técnicas de web scraping. La data contiene registros de **Fotocasa**, el cual es uno de los sitios más populares de bienes raíces en España. Por favor no hagas esto (web scraping) a no ser que sea para propósitos académicos.\n",
        "\n",
        "El dataset fue descargado hace algunos años por Henry Navarro y en ningún caso se obtuvo beneficio económico de ello.\n",
        "\n",
        "Contiene miles de datos de casas reales publicadas en la web www.fotocasa.com. Tu objetivo es extraer tanta información como sea posible con el conocimiento que tienes hasta ahora de ciencia de datos, por ejemplo ¿cuál es la casa más cara en todo el dataset?\n",
        "\n",
        "Empecemos precisamente con esa pregunta... ¡Buena suerte!"
      ]
    },
    {
      "attachments": {},
      "cell_type": "markdown",
      "id": "multiple-glass",
      "metadata": {},
      "source": [
        "#### Ejercicio 00. Lee el dataset assets/real_estate.csv e intenta visualizar la tabla (★☆☆)"
      ]
    },
    {
      "cell_type": "code",
      "execution_count": 163,
      "id": "frank-heath",
      "metadata": {},
      "outputs": [
        {
          "data": {
            "text/html": [
              "<div>\n",
              "<style scoped>\n",
              "    .dataframe tbody tr th:only-of-type {\n",
              "        vertical-align: middle;\n",
              "    }\n",
              "\n",
              "    .dataframe tbody tr th {\n",
              "        vertical-align: top;\n",
              "    }\n",
              "\n",
              "    .dataframe thead th {\n",
              "        text-align: right;\n",
              "    }\n",
              "</style>\n",
              "<table border=\"1\" class=\"dataframe\">\n",
              "  <thead>\n",
              "    <tr style=\"text-align: right;\">\n",
              "      <th></th>\n",
              "      <th>Unnamed: 0</th>\n",
              "      <th>id_realEstates</th>\n",
              "      <th>isNew</th>\n",
              "      <th>realEstate_name</th>\n",
              "      <th>phone_realEstate</th>\n",
              "      <th>url_inmueble</th>\n",
              "      <th>rooms</th>\n",
              "      <th>bathrooms</th>\n",
              "      <th>surface</th>\n",
              "      <th>price</th>\n",
              "      <th>...</th>\n",
              "      <th>level4Id</th>\n",
              "      <th>level5Id</th>\n",
              "      <th>level6Id</th>\n",
              "      <th>level7Id</th>\n",
              "      <th>level8Id</th>\n",
              "      <th>accuracy</th>\n",
              "      <th>latitude</th>\n",
              "      <th>longitude</th>\n",
              "      <th>zipCode</th>\n",
              "      <th>customZone</th>\n",
              "    </tr>\n",
              "  </thead>\n",
              "  <tbody>\n",
              "    <tr>\n",
              "      <th>0</th>\n",
              "      <td>1</td>\n",
              "      <td>153771986</td>\n",
              "      <td>False</td>\n",
              "      <td>ferrari 57 inmobiliaria</td>\n",
              "      <td>912177526.0</td>\n",
              "      <td>https://www.fotocasa.es/es/comprar/vivienda/ma...</td>\n",
              "      <td>3.0</td>\n",
              "      <td>2.0</td>\n",
              "      <td>103.0</td>\n",
              "      <td>195000</td>\n",
              "      <td>...</td>\n",
              "      <td>0</td>\n",
              "      <td>0</td>\n",
              "      <td>0</td>\n",
              "      <td>0</td>\n",
              "      <td>0</td>\n",
              "      <td>0</td>\n",
              "      <td>40,2948276786438</td>\n",
              "      <td>-3,44402412135624</td>\n",
              "      <td>NaN</td>\n",
              "      <td>NaN</td>\n",
              "    </tr>\n",
              "    <tr>\n",
              "      <th>1</th>\n",
              "      <td>2</td>\n",
              "      <td>153867863</td>\n",
              "      <td>False</td>\n",
              "      <td>tecnocasa fuenlabrada ferrocarril</td>\n",
              "      <td>916358736.0</td>\n",
              "      <td>https://www.fotocasa.es/es/comprar/vivienda/ma...</td>\n",
              "      <td>3.0</td>\n",
              "      <td>1.0</td>\n",
              "      <td>NaN</td>\n",
              "      <td>89000</td>\n",
              "      <td>...</td>\n",
              "      <td>0</td>\n",
              "      <td>0</td>\n",
              "      <td>0</td>\n",
              "      <td>0</td>\n",
              "      <td>0</td>\n",
              "      <td>1</td>\n",
              "      <td>40,28674</td>\n",
              "      <td>-3,79351</td>\n",
              "      <td>NaN</td>\n",
              "      <td>NaN</td>\n",
              "    </tr>\n",
              "    <tr>\n",
              "      <th>2</th>\n",
              "      <td>3</td>\n",
              "      <td>153430440</td>\n",
              "      <td>False</td>\n",
              "      <td>look find boadilla</td>\n",
              "      <td>916350408.0</td>\n",
              "      <td>https://www.fotocasa.es/es/comprar/vivienda/ma...</td>\n",
              "      <td>2.0</td>\n",
              "      <td>2.0</td>\n",
              "      <td>99.0</td>\n",
              "      <td>390000</td>\n",
              "      <td>...</td>\n",
              "      <td>0</td>\n",
              "      <td>0</td>\n",
              "      <td>0</td>\n",
              "      <td>0</td>\n",
              "      <td>0</td>\n",
              "      <td>0</td>\n",
              "      <td>40,4115646786438</td>\n",
              "      <td>-3,90662252135624</td>\n",
              "      <td>NaN</td>\n",
              "      <td>NaN</td>\n",
              "    </tr>\n",
              "    <tr>\n",
              "      <th>3</th>\n",
              "      <td>4</td>\n",
              "      <td>152776331</td>\n",
              "      <td>False</td>\n",
              "      <td>tecnocasa fuenlabrada ferrocarril</td>\n",
              "      <td>916358736.0</td>\n",
              "      <td>https://www.fotocasa.es/es/comprar/vivienda/ma...</td>\n",
              "      <td>3.0</td>\n",
              "      <td>1.0</td>\n",
              "      <td>86.0</td>\n",
              "      <td>89000</td>\n",
              "      <td>...</td>\n",
              "      <td>0</td>\n",
              "      <td>0</td>\n",
              "      <td>0</td>\n",
              "      <td>0</td>\n",
              "      <td>0</td>\n",
              "      <td>0</td>\n",
              "      <td>40,2853785786438</td>\n",
              "      <td>-3,79508142135624</td>\n",
              "      <td>NaN</td>\n",
              "      <td>NaN</td>\n",
              "    </tr>\n",
              "    <tr>\n",
              "      <th>4</th>\n",
              "      <td>5</td>\n",
              "      <td>153180188</td>\n",
              "      <td>False</td>\n",
              "      <td>ferrari 57 inmobiliaria</td>\n",
              "      <td>912177526.0</td>\n",
              "      <td>https://www.fotocasa.es/es/comprar/vivienda/ma...</td>\n",
              "      <td>2.0</td>\n",
              "      <td>2.0</td>\n",
              "      <td>106.0</td>\n",
              "      <td>172000</td>\n",
              "      <td>...</td>\n",
              "      <td>0</td>\n",
              "      <td>0</td>\n",
              "      <td>0</td>\n",
              "      <td>0</td>\n",
              "      <td>0</td>\n",
              "      <td>0</td>\n",
              "      <td>40,2998774864376</td>\n",
              "      <td>-3,45226301356237</td>\n",
              "      <td>NaN</td>\n",
              "      <td>NaN</td>\n",
              "    </tr>\n",
              "    <tr>\n",
              "      <th>...</th>\n",
              "      <td>...</td>\n",
              "      <td>...</td>\n",
              "      <td>...</td>\n",
              "      <td>...</td>\n",
              "      <td>...</td>\n",
              "      <td>...</td>\n",
              "      <td>...</td>\n",
              "      <td>...</td>\n",
              "      <td>...</td>\n",
              "      <td>...</td>\n",
              "      <td>...</td>\n",
              "      <td>...</td>\n",
              "      <td>...</td>\n",
              "      <td>...</td>\n",
              "      <td>...</td>\n",
              "      <td>...</td>\n",
              "      <td>...</td>\n",
              "      <td>...</td>\n",
              "      <td>...</td>\n",
              "      <td>...</td>\n",
              "      <td>...</td>\n",
              "    </tr>\n",
              "    <tr>\n",
              "      <th>15330</th>\n",
              "      <td>15331</td>\n",
              "      <td>153901377</td>\n",
              "      <td>False</td>\n",
              "      <td>infocasa consulting</td>\n",
              "      <td>911360461.0</td>\n",
              "      <td>https://www.fotocasa.es/es/comprar/vivienda/ma...</td>\n",
              "      <td>2.0</td>\n",
              "      <td>1.0</td>\n",
              "      <td>96.0</td>\n",
              "      <td>259470</td>\n",
              "      <td>...</td>\n",
              "      <td>0</td>\n",
              "      <td>0</td>\n",
              "      <td>0</td>\n",
              "      <td>0</td>\n",
              "      <td>0</td>\n",
              "      <td>0</td>\n",
              "      <td>40,45416</td>\n",
              "      <td>-3,70286</td>\n",
              "      <td>NaN</td>\n",
              "      <td>NaN</td>\n",
              "    </tr>\n",
              "    <tr>\n",
              "      <th>15331</th>\n",
              "      <td>15332</td>\n",
              "      <td>150394373</td>\n",
              "      <td>False</td>\n",
              "      <td>inmobiliaria pulpon</td>\n",
              "      <td>912788039.0</td>\n",
              "      <td>https://www.fotocasa.es/es/comprar/vivienda/ma...</td>\n",
              "      <td>3.0</td>\n",
              "      <td>1.0</td>\n",
              "      <td>150.0</td>\n",
              "      <td>165000</td>\n",
              "      <td>...</td>\n",
              "      <td>0</td>\n",
              "      <td>0</td>\n",
              "      <td>0</td>\n",
              "      <td>0</td>\n",
              "      <td>0</td>\n",
              "      <td>0</td>\n",
              "      <td>40,36652</td>\n",
              "      <td>-3,48951</td>\n",
              "      <td>NaN</td>\n",
              "      <td>NaN</td>\n",
              "    </tr>\n",
              "    <tr>\n",
              "      <th>15332</th>\n",
              "      <td>15333</td>\n",
              "      <td>153901397</td>\n",
              "      <td>False</td>\n",
              "      <td>tecnocasa torrelodones</td>\n",
              "      <td>912780348.0</td>\n",
              "      <td>https://www.fotocasa.es/es/comprar/vivienda/ma...</td>\n",
              "      <td>4.0</td>\n",
              "      <td>2.0</td>\n",
              "      <td>175.0</td>\n",
              "      <td>495000</td>\n",
              "      <td>...</td>\n",
              "      <td>0</td>\n",
              "      <td>0</td>\n",
              "      <td>0</td>\n",
              "      <td>0</td>\n",
              "      <td>0</td>\n",
              "      <td>0</td>\n",
              "      <td>40,57444</td>\n",
              "      <td>-3,92124</td>\n",
              "      <td>NaN</td>\n",
              "      <td>NaN</td>\n",
              "    </tr>\n",
              "    <tr>\n",
              "      <th>15333</th>\n",
              "      <td>15334</td>\n",
              "      <td>152607440</td>\n",
              "      <td>False</td>\n",
              "      <td>inmobiliaria pulpon</td>\n",
              "      <td>912788039.0</td>\n",
              "      <td>https://www.fotocasa.es/es/comprar/vivienda/ma...</td>\n",
              "      <td>3.0</td>\n",
              "      <td>2.0</td>\n",
              "      <td>101.0</td>\n",
              "      <td>195000</td>\n",
              "      <td>...</td>\n",
              "      <td>0</td>\n",
              "      <td>0</td>\n",
              "      <td>0</td>\n",
              "      <td>0</td>\n",
              "      <td>0</td>\n",
              "      <td>0</td>\n",
              "      <td>40,36967</td>\n",
              "      <td>-3,48105</td>\n",
              "      <td>NaN</td>\n",
              "      <td>NaN</td>\n",
              "    </tr>\n",
              "    <tr>\n",
              "      <th>15334</th>\n",
              "      <td>15335</td>\n",
              "      <td>153901356</td>\n",
              "      <td>False</td>\n",
              "      <td>infocasa consulting</td>\n",
              "      <td>911360461.0</td>\n",
              "      <td>https://www.fotocasa.es/es/comprar/vivienda/ma...</td>\n",
              "      <td>3.0</td>\n",
              "      <td>2.0</td>\n",
              "      <td>152.0</td>\n",
              "      <td>765000</td>\n",
              "      <td>...</td>\n",
              "      <td>0</td>\n",
              "      <td>0</td>\n",
              "      <td>0</td>\n",
              "      <td>0</td>\n",
              "      <td>0</td>\n",
              "      <td>0</td>\n",
              "      <td>40,45773</td>\n",
              "      <td>-3,69068</td>\n",
              "      <td>NaN</td>\n",
              "      <td>NaN</td>\n",
              "    </tr>\n",
              "  </tbody>\n",
              "</table>\n",
              "<p>15335 rows × 37 columns</p>\n",
              "</div>"
            ],
            "text/plain": [
              "       Unnamed: 0  id_realEstates  isNew                    realEstate_name  \\\n",
              "0               1       153771986  False            ferrari 57 inmobiliaria   \n",
              "1               2       153867863  False  tecnocasa fuenlabrada ferrocarril   \n",
              "2               3       153430440  False                 look find boadilla   \n",
              "3               4       152776331  False  tecnocasa fuenlabrada ferrocarril   \n",
              "4               5       153180188  False            ferrari 57 inmobiliaria   \n",
              "...           ...             ...    ...                                ...   \n",
              "15330       15331       153901377  False                infocasa consulting   \n",
              "15331       15332       150394373  False                inmobiliaria pulpon   \n",
              "15332       15333       153901397  False             tecnocasa torrelodones   \n",
              "15333       15334       152607440  False                inmobiliaria pulpon   \n",
              "15334       15335       153901356  False                infocasa consulting   \n",
              "\n",
              "       phone_realEstate                                       url_inmueble  \\\n",
              "0           912177526.0  https://www.fotocasa.es/es/comprar/vivienda/ma...   \n",
              "1           916358736.0  https://www.fotocasa.es/es/comprar/vivienda/ma...   \n",
              "2           916350408.0  https://www.fotocasa.es/es/comprar/vivienda/ma...   \n",
              "3           916358736.0  https://www.fotocasa.es/es/comprar/vivienda/ma...   \n",
              "4           912177526.0  https://www.fotocasa.es/es/comprar/vivienda/ma...   \n",
              "...                 ...                                                ...   \n",
              "15330       911360461.0  https://www.fotocasa.es/es/comprar/vivienda/ma...   \n",
              "15331       912788039.0  https://www.fotocasa.es/es/comprar/vivienda/ma...   \n",
              "15332       912780348.0  https://www.fotocasa.es/es/comprar/vivienda/ma...   \n",
              "15333       912788039.0  https://www.fotocasa.es/es/comprar/vivienda/ma...   \n",
              "15334       911360461.0  https://www.fotocasa.es/es/comprar/vivienda/ma...   \n",
              "\n",
              "       rooms  bathrooms  surface   price  ... level4Id level5Id level6Id  \\\n",
              "0        3.0        2.0    103.0  195000  ...        0        0        0   \n",
              "1        3.0        1.0      NaN   89000  ...        0        0        0   \n",
              "2        2.0        2.0     99.0  390000  ...        0        0        0   \n",
              "3        3.0        1.0     86.0   89000  ...        0        0        0   \n",
              "4        2.0        2.0    106.0  172000  ...        0        0        0   \n",
              "...      ...        ...      ...     ...  ...      ...      ...      ...   \n",
              "15330    2.0        1.0     96.0  259470  ...        0        0        0   \n",
              "15331    3.0        1.0    150.0  165000  ...        0        0        0   \n",
              "15332    4.0        2.0    175.0  495000  ...        0        0        0   \n",
              "15333    3.0        2.0    101.0  195000  ...        0        0        0   \n",
              "15334    3.0        2.0    152.0  765000  ...        0        0        0   \n",
              "\n",
              "      level7Id level8Id accuracy          latitude          longitude zipCode  \\\n",
              "0            0        0        0  40,2948276786438  -3,44402412135624     NaN   \n",
              "1            0        0        1          40,28674           -3,79351     NaN   \n",
              "2            0        0        0  40,4115646786438  -3,90662252135624     NaN   \n",
              "3            0        0        0  40,2853785786438  -3,79508142135624     NaN   \n",
              "4            0        0        0  40,2998774864376  -3,45226301356237     NaN   \n",
              "...        ...      ...      ...               ...                ...     ...   \n",
              "15330        0        0        0          40,45416           -3,70286     NaN   \n",
              "15331        0        0        0          40,36652           -3,48951     NaN   \n",
              "15332        0        0        0          40,57444           -3,92124     NaN   \n",
              "15333        0        0        0          40,36967           -3,48105     NaN   \n",
              "15334        0        0        0          40,45773           -3,69068     NaN   \n",
              "\n",
              "      customZone  \n",
              "0            NaN  \n",
              "1            NaN  \n",
              "2            NaN  \n",
              "3            NaN  \n",
              "4            NaN  \n",
              "...          ...  \n",
              "15330        NaN  \n",
              "15331        NaN  \n",
              "15332        NaN  \n",
              "15333        NaN  \n",
              "15334        NaN  \n",
              "\n",
              "[15335 rows x 37 columns]"
            ]
          },
          "execution_count": 163,
          "metadata": {},
          "output_type": "execute_result"
        }
      ],
      "source": [
        "import pandas as pd\n",
        "import matplotlib.pyplot as plt\n",
        "import numpy as np\n",
        "from sklearn.preprocessing import MinMaxScaler #Para normalizar datos.\n",
        "\n",
        "# Este archivo CSV contiene puntos y comas en lugar de comas como separadores\n",
        "df_estates = pd.read_csv('assets/real_estate.csv', sep=';')\n",
        "df_estates"
      ]
    },
    {
      "attachments": {},
      "cell_type": "markdown",
      "id": "latin-guest",
      "metadata": {},
      "source": [
        "#### Ejercicio 01. ¿Cuál es la casa más cara en todo el dataset? (★☆☆)\n",
        "\n",
        "Imprime la dirección y el precio de la casa seleccionada. Por ejemplo:\n",
        "\n",
        "`La casa con dirección en Calle del Prado, Nº20 es la más cara y su precio es de 5000000 USD`"
      ]
    },
    {
      "cell_type": "code",
      "execution_count": 164,
      "id": "developing-optimum",
      "metadata": {},
      "outputs": [
        {
          "name": "stdout",
          "output_type": "stream",
          "text": [
            "La casa con dirección El Escorial,El Escorial es la más cara y su precio es de 8500000 €.\n",
            "None\n"
          ]
        }
      ],
      "source": [
        "###Imprimir dirección de la casa más cara###\n",
        "\n",
        "def HighPrice(highprice):\n",
        "    #Cogemos el valor más grande de la columna Price (El ultimo en este caso) y lo convertimos en una Serie con squeeze para trabajarlo mejor.\n",
        "    highprice_house = highprice.sort_values('price').tail(1).squeeze()\n",
        "    print (f\"La casa con dirección {highprice_house['address']},{highprice_house['level5']} es la más cara y su precio es de {highprice_house['price']} €.\")\n",
        "\n",
        "print (HighPrice(df_estates))"
      ]
    },
    {
      "attachments": {},
      "cell_type": "markdown",
      "id": "lesser-cosmetic",
      "metadata": {},
      "source": [
        "#### Ejercicio 02. ¿Cuál es la casa más barata del dataset? (★☆☆)\n",
        "\n",
        "Imprime la dirección y el precio de la casa seleccionada. Por ejemplo:\n",
        "\n",
        "`La casa con dirección en Calle Alcalá, Nº58 es la más barata y su precio es de 12000 USD`"
      ]
    },
    {
      "cell_type": "code",
      "execution_count": 165,
      "id": "lovely-oasis",
      "metadata": {},
      "outputs": [
        {
          "name": "stdout",
          "output_type": "stream",
          "text": [
            "La casa con dirección en  Madrid Capital,  Madrid Capital es la más barata y su precio es de 0 €.\n",
            "None\n"
          ]
        }
      ],
      "source": [
        "###Imprimir dirección de la casa más barata###\n",
        "\n",
        "def LowPrice(lowprice):\n",
        "    lowprice_house = lowprice.sort_values('price').head(1).squeeze()\n",
        "    print (f\"La casa con dirección en {lowprice_house['address']}, {lowprice_house['level5']} es la más barata y su precio es de {lowprice_house['price']} €.\")\n",
        "\n",
        "print (LowPrice(df_estates))"
      ]
    },
    {
      "attachments": {},
      "cell_type": "markdown",
      "id": "compliant-fellowship",
      "metadata": {},
      "source": [
        "#### Ejercicio 03. ¿Cuál es la casa más grande y la más pequeña del dataset? (★☆☆)\n",
        "\n",
        "Imprime la dirección y el área de las casas seleccionadas. Por ejemplo:\n",
        "\n",
        "`La casa más grande está ubicada en Calle Gran Vía, Nº38 y su superficie es de 5000 metros`\n",
        "\n",
        "`La casa más pequeña está ubicada en Calle Mayor, Nº12 y su superficie es de 200 metros`"
      ]
    },
    {
      "cell_type": "code",
      "execution_count": 166,
      "id": "every-tiffany",
      "metadata": {},
      "outputs": [
        {
          "name": "stdout",
          "output_type": "stream",
          "text": [
            "La casa más grande está en Calle de Manuela Malasaña,  Madrid Capital,  Madrid Capital y su superficie es de nan metros.\n",
            "None\n",
            "La casa más pequeña está en Calle Amparo,  Madrid Capital,  Madrid Capital y su superficie es de 15.0 metros.\n",
            "None\n"
          ]
        }
      ],
      "source": [
        "###Imprimimos la casa más grande y la más pequeña###\n",
        "\n",
        "def MoreSurface(moresurface):\n",
        "    moresurface_house = moresurface.sort_values('surface').tail(1).squeeze()\n",
        "    print (f\"La casa más grande está en {moresurface_house['address']}, {moresurface_house['level5']} y su superficie es de {moresurface_house['surface']} metros.\")\n",
        "\n",
        "def LessSurface(lesssurface):\n",
        "    lessfurface_house = lesssurface.sort_values('surface').head(1).squeeze()\n",
        "    print (f\"La casa más pequeña está en {lessfurface_house['address']}, {lessfurface_house['level5']} y su superficie es de {lessfurface_house['surface']} metros.\")\n",
        "\n",
        "print (MoreSurface(df_estates))\n",
        "print (LessSurface(df_estates))"
      ]
    },
    {
      "attachments": {},
      "cell_type": "markdown",
      "id": "danish-spirit",
      "metadata": {},
      "source": [
        "#### Ejercicio 04. ¿Cuantas poblaciones (columna level5) contiene el dataset? (★☆☆)\n",
        "\n",
        "Imprime el nombre de las poblaciones separadas por coma. Por ejemplo:\n",
        "\n",
        "`> print(populations)`\n",
        "\n",
        "`population1, population2, population3, ...`"
      ]
    },
    {
      "cell_type": "code",
      "execution_count": 167,
      "id": "exciting-accreditation",
      "metadata": {},
      "outputs": [
        {
          "name": "stdout",
          "output_type": "stream",
          "text": [
            " Madrid Capital, Ajalvir, Alcalá de Henares, Alcobendas, Alcorcón, Aldea del Fresno, Algete, Alpedrete, Ambite, Anchuelo, Aranjuez, Arganda del Rey, Arroyomolinos (Madrid), Batres, Becerril de la Sierra, Belmonte de Tajo, Boadilla del Monte, Braojos, Brea de Tajo, Brunete, Buitrago del Lozoya, Bustarviejo, Cabanillas de la Sierra, Cadalso de los Vidrios, Camarma de Esteruelas, Campo Real, Canencia, Carabaña, Casarrubuelos, Cenicientos, Cercedilla, Chapinería, Chinchón, Ciempozuelos, Cobeña, Collado Mediano, Collado Villalba, Colmenar Viejo, Colmenar de Oreja, Colmenar del Arroyo, Colmenarejo, Corpa, Coslada, Cubas de la Sagra, Daganzo de Arriba, El Atazar, El Berrueco, El Boalo - Cerceda – Mataelpino, El Escorial, El Molar (Madrid), El Vellón, El Álamo, Estremera, Fresnedillas de la Oliva, Fresno de Torote, Fresno de Torote - Serracines, Fuenlabrada, Fuente El Saz de Jarama, Fuentidueña de Tajo, Galapagar, Garganta de los Montes, Gargantilla del Lozoya, Gascones, Getafe, Griñón, Guadalix de la Sierra, Guadarrama, Horcajo de la Sierra, Hoyo de Manzanares, Humanes de Madrid, La Cabrera, La Hiruela, Las Rozas de Madrid, Leganés, Loeches, Los Molinos, Los Santos de la Humosa, Lozoya, Lozoyuela-navas-sieteiglesias, Madarcos, Majadahonda, Manzanares El Real, Meco, Mejorada del Campo, Miraflores de la Sierra, Montejo de la Sierra, Moraleja de Enmedio, Moralzarzal, Morata de Tajuña, Móstoles, Navacerrada, Navalafuente, Navalagamella, Navalcarnero, Navarredonda, Navas del Rey, Nuevo Baztán, Orusco de Tajuña, Paracuellos de Jarama, Parla, Patones, Pedrezuela, Pelayos de la Presa, Perales de Tajuña, Pezuela de las Torres, Pinilla del Valle, Pinto, Piñuécar-gandullas, Pozuelo de Alarcón, Pozuelo del Rey, Puentes Viejas, Quijorna, Rascafría, Redueña, Ribatejada, Rivas-vaciamadrid, Robledo de Chavela, Robregordo, San Agustín del Guadalix, San Fernando de Henares, San Lorenzo de El Escorial, San Martín de Valdeiglesias, San Martín de la Vega, San Sebastián de los Reyes, Santa María de la Alameda, Santorcaz, Serranillos del Valle, Sevilla la Nueva, Soto del Real, Talamanca de Jarama, Tielmes, Titulcia, Torrejón de Ardoz, Torrejón de Velasco, Torrejón de la Calzada, Torrelaguna, Torrelodones, Torremocha de Jarama, Torres de la Alameda, Tres Cantos, Valdaracete, Valdeavero, Valdelaguna, Valdemanco, Valdemaqueda, Valdemorillo, Valdemoro, Valdeolmos-Alalpardo, Valdepiélagos, Valdetorres de Jarama, Valdilecha, Valverde de Alcalá, Velilla de San Antonio, Venturada, Villa del Prado, Villaconejos, Villalbilla, Villamanrique de Tajo, Villamanta, Villamantilla, Villanueva de Perales, Villanueva de la Cañada, Villanueva del Pardillo, Villar del Olmo, Villarejo de Salvanés, Villaviciosa de Odón, Villavieja del Lozoya, Zarzalejo, "
          ]
        }
      ],
      "source": [
        "###Nombre de las poblaciones###\n",
        "\n",
        "def Populations(populations):\n",
        "    counter = len(populations.level5)\n",
        "    list_populations = list()\n",
        "    for i in range(counter):\n",
        "        list_populations.append(populations.level5[i])\n",
        "    \n",
        "    #Agrupamos los valores únicos.\n",
        "    list_populations = np.unique(list_populations)\n",
        "    \n",
        "    return list_populations\n",
        "\n",
        "for pop in (Populations(df_estates)):\n",
        "    print (pop, end=\", \")"
      ]
    },
    {
      "attachments": {},
      "cell_type": "markdown",
      "id": "crazy-blame",
      "metadata": {},
      "source": [
        "#### Ejercicio 05. ¿El dataset contiene valores no admitidos (NAs)? (★☆☆)\n",
        "\n",
        "Imprima un booleano (`True` o `False`) seguido de la fila/columna que contiene el NAs."
      ]
    },
    {
      "cell_type": "code",
      "execution_count": 168,
      "id": "transparent-poetry",
      "metadata": {},
      "outputs": [
        {
          "name": "stdout",
          "output_type": "stream",
          "text": [
            "Unnamed: 0          False\n",
            "id_realEstates      False\n",
            "isNew               False\n",
            "realEstate_name      True\n",
            "phone_realEstate     True\n",
            "url_inmueble        False\n",
            "rooms                True\n",
            "bathrooms            True\n",
            "surface              True\n",
            "price               False\n",
            "date                False\n",
            "description          True\n",
            "address             False\n",
            "country             False\n",
            "level1              False\n",
            "level2              False\n",
            "level3              False\n",
            "level4               True\n",
            "level5              False\n",
            "level6               True\n",
            "level7               True\n",
            "level8               True\n",
            "upperLevel          False\n",
            "countryId           False\n",
            "level1Id            False\n",
            "level2Id            False\n",
            "level3Id            False\n",
            "level4Id            False\n",
            "level5Id            False\n",
            "level6Id            False\n",
            "level7Id            False\n",
            "level8Id            False\n",
            "accuracy            False\n",
            "latitude            False\n",
            "longitude           False\n",
            "zipCode              True\n",
            "customZone           True\n",
            "dtype: bool\n",
            "0        True\n",
            "1        True\n",
            "2        True\n",
            "3        True\n",
            "4        True\n",
            "         ... \n",
            "15330    True\n",
            "15331    True\n",
            "15332    True\n",
            "15333    True\n",
            "15334    True\n",
            "Length: 15335, dtype: bool\n",
            "None\n"
          ]
        }
      ],
      "source": [
        "### Comprobar si hay valores no admitidos en la lista ###\n",
        "\n",
        "def NanIdentificy(value):\n",
        "    print (value.isnull().any())\n",
        "    print (value.isnull().any(axis=1))\n",
        "\n",
        "print (NanIdentificy(df_estates))"
      ]
    },
    {
      "attachments": {},
      "cell_type": "markdown",
      "id": "italic-hydrogen",
      "metadata": {},
      "source": [
        "#### Ejercicio 06. Elimina los NAs del dataset, si aplica (★★☆)\n",
        "\n",
        "Imprima una comparación entre las dimensiones del DataFrame original versus el DataFrame después de las eliminaciones.\n"
      ]
    },
    {
      "cell_type": "code",
      "execution_count": 169,
      "id": "administrative-roads",
      "metadata": {},
      "outputs": [
        {
          "name": "stdout",
          "output_type": "stream",
          "text": [
            "(15335, 25)\n",
            "(15335, 37)\n"
          ]
        }
      ],
      "source": [
        "### Eliminar los NAs del dataset###\n",
        "\n",
        "def Filter(value):\n",
        "   df_filter = value.dropna(axis=1)\n",
        "   return df_filter\n",
        "\n",
        "print(Filter(df_estates).shape)\n",
        "print(df_estates.shape)"
      ]
    },
    {
      "attachments": {},
      "cell_type": "markdown",
      "id": "middle-china",
      "metadata": {},
      "source": [
        "#### Ejercicio 07. ¿Cuál la media de precios en la población (columna level5) de \"Arroyomolinos (Madrid)\"? (★★☆)\n",
        "\n",
        "Imprima el valor obtenido."
      ]
    },
    {
      "cell_type": "code",
      "execution_count": 170,
      "id": "nuclear-belief",
      "metadata": {},
      "outputs": [
        {
          "name": "stdout",
          "output_type": "stream",
          "text": [
            "294541.59854014596\n"
          ]
        }
      ],
      "source": [
        "###Media de precios de Arroyomolinos###\n",
        "\n",
        "def MeanPrice(dataset, city):\n",
        "    dataset_city = dataset[dataset['level5'] == city]\n",
        "    return dataset_city.price.mean()\n",
        "\n",
        "print (MeanPrice(df_estates, \"Arroyomolinos (Madrid)\"))"
      ]
    },
    {
      "attachments": {},
      "cell_type": "markdown",
      "id": "concerned-radical",
      "metadata": {},
      "source": [
        "#### Ejercicio 08. Trazar el histograma de los precios para la población (level5 column) de \"Arroyomolinos (Madrid)\" y explica qué observas (★★☆)\n",
        "\n",
        "Imprime el histograma de los precios y escribe en la celda del Markdown un breve análisis del trazado.\n"
      ]
    },
    {
      "cell_type": "code",
      "execution_count": 171,
      "id": "sudden-message",
      "metadata": {},
      "outputs": [
        {
          "data": {
            "image/png": "[encoded data removed]",
            "text/plain": [
              "<Figure size 1000x500 with 1 Axes>"
            ]
          },
          "metadata": {},
          "output_type": "display_data"
        },
        {
          "name": "stdout",
          "output_type": "stream",
          "text": [
            "None\n"
          ]
        }
      ],
      "source": [
        "###Historiograma de los precios de Arroyomolinos###\n",
        "\n",
        "def HistogramPriceCity(dataset, city):\n",
        "    plt.figure (figsize=(10,5))\n",
        "    plt.hist (dataset[dataset['level5'] == city].price, bins=30, alpha=1, ec=\"black\")\n",
        "    plt.title (f\"Precios de {city}\")\n",
        "    plt.show()\n",
        "\n",
        "print (HistogramPriceCity(df_estates,\"Arroyomolinos (Madrid)\"))"
      ]
    },
    {
      "attachments": {},
      "cell_type": "markdown",
      "id": "impressed-combination",
      "metadata": {},
      "source": [
        "**TODO: Markdown**. Para escribir aquí, haz doble clic en esta celda, elimina este contenido y coloca lo que quieras escribir. Luego ejecuta la celda."
      ]
    },
    {
      "cell_type": "code",
      "execution_count": null,
      "id": "b5039ec0",
      "metadata": {},
      "outputs": [],
      "source": []
    },
    {
      "attachments": {},
      "cell_type": "markdown",
      "id": "actual-edinburgh",
      "metadata": {},
      "source": [
        "#### Ejercicio 09. ¿Son los precios promedios de \"Valdemorillo\" y \"Galapagar\" los mismos? (★★☆)\n",
        "\n",
        "Imprime ambos promedios y escribe una conclusión sobre ellos."
      ]
    },
    {
      "cell_type": "code",
      "execution_count": 172,
      "id": "numeric-commerce",
      "metadata": {},
      "outputs": [
        {
          "name": "stdout",
          "output_type": "stream",
          "text": [
            "363860.2931034483\n",
            "360063.20238095237\n",
            "False\n"
          ]
        }
      ],
      "source": [
        "###Comprobar si el precio promedio de Valdemorillo y de Galapagar son el mismo###\n",
        "\n",
        "print (MeanPrice(df_estates,\"Valdemorillo\"))\n",
        "print (MeanPrice(df_estates,\"Galapagar\"))\n",
        "print (MeanPrice(df_estates,\"Valdemorillo\") == MeanPrice(df_estates,\"Galapagar\"))"
      ]
    },
    {
      "attachments": {},
      "cell_type": "markdown",
      "id": "lonely-article",
      "metadata": {},
      "source": [
        "#### Ejercicio 10. ¿Son los promedios de precio por metro cuadrado (precio/m2) de \"Valdemorillo\" y \"Galapagar\" los mismos? (★★☆)\n",
        "\n",
        "Imprime ambos promedios de precio por metro cuadrado y escribe una conclusión sobre ellos.\n",
        "\n",
        "Pista: Crea una nueva columna llamada `pps` (*price per square* o precio por metro cuadrado) y luego analiza los valores."
      ]
    },
    {
      "cell_type": "code",
      "execution_count": 173,
      "id": "hourly-globe",
      "metadata": {},
      "outputs": [
        {
          "name": "stdout",
          "output_type": "stream",
          "text": [
            "1317.9502109024986\n",
            "1606.3240303094024\n",
            "False\n"
          ]
        }
      ],
      "source": [
        "###Comprobar si el precio/m2 promedio de Valdemorillo y Galapagar son el mismo###\n",
        "\n",
        "def ColumnPPS(dataset):\n",
        "    pps = dataset.price / dataset.surface\n",
        "    dataset ['pps'] = pps\n",
        "    return dataset\n",
        "\n",
        "dfwith_pps = ColumnPPS(df_estates)\n",
        "\n",
        "def MeanPPS(dataset, city):\n",
        "    pps_datasetCity = dataset[dataset['level5'] == city]\n",
        "    return pps_datasetCity.pps.mean()\n",
        "\n",
        "print (MeanPPS(dfwith_pps, \"Valdemorillo\"))\n",
        "print (MeanPPS(dfwith_pps, \"Galapagar\"))\n",
        "print (MeanPPS(dfwith_pps,\"Valdemorillo\") == MeanPPS(dfwith_pps,\"Galapagar\"))"
      ]
    },
    {
      "attachments": {},
      "cell_type": "markdown",
      "id": "pleasant-invite",
      "metadata": {},
      "source": [
        "#### Ejercicio 11. Analiza la relación entre la superficie y el precio de las casas. (★★☆)\n",
        "\n",
        "Pista: Puedes hacer un `scatter plot` y luego escribir una conclusión al respecto."
      ]
    },
    {
      "cell_type": "code",
      "execution_count": 174,
      "id": "common-drilling",
      "metadata": {},
      "outputs": [
        {
          "data": {
            "image/png": "[encoded data removed]",
            "text/plain": [
              "<Figure size 1000x500 with 1 Axes>"
            ]
          },
          "metadata": {},
          "output_type": "display_data"
        },
        {
          "name": "stdout",
          "output_type": "stream",
          "text": [
            "None\n"
          ]
        }
      ],
      "source": [
        "def DataSetCity(dataset, city):\n",
        "    datacity = dataset[dataset['level5'] == city]\n",
        "    return datacity\n",
        "\n",
        "df_valdemorillo = DataSetCity(df_estates, \"Valdemorillo\")\n",
        "df_galapagar = DataSetCity(df_estates, \"Galapagar\")\n",
        "\n",
        "def RelPriceSurfaceTwoCities(dataset1, dataset2, city1, city2):\n",
        "    plt.figure(figsize=(10,5))\n",
        "    plt.scatter(dataset1.price, dataset1.surface, label = city1)\n",
        "    plt.scatter(dataset2.price, dataset2.surface, label = city2)\n",
        "    plt.title(\"Relación Superficie/Precio\")\n",
        "    plt.legend()\n",
        "    plt.show()\n",
        "\n",
        "print (RelPriceSurfaceTwoCities(df_valdemorillo, df_galapagar, \"Valdemorillo\", \"Galapagar\"))"
      ]
    },
    {
      "attachments": {},
      "cell_type": "markdown",
      "id": "ahead-liquid",
      "metadata": {},
      "source": [
        "**TODO: Markdown**. Para escribir aquí, haz doble clic en esta celda, elimina este contenido y coloca lo que quieras escribir. Luego ejecuta la celda."
      ]
    },
    {
      "attachments": {},
      "cell_type": "markdown",
      "id": "coordinate-sunrise",
      "metadata": {},
      "source": [
        "#### Ejercicio 12. ¿Cuántas agencia de bienes raíces contiene el dataset? (★★☆)\n",
        "\n",
        "Imprime el valor obtenido."
      ]
    },
    {
      "cell_type": "code",
      "execution_count": 175,
      "id": "valid-honolulu",
      "metadata": {},
      "outputs": [
        {
          "name": "stdout",
          "output_type": "stream",
          "text": [
            "14217\n"
          ]
        }
      ],
      "source": [
        "###Buscamos cuantas agencias contiene el DataSet###\n",
        "def HowManyRealEstatesAre(value):\n",
        "    return len(value.id_realEstates.unique()) #Imprimimos solamente los valores unicos.\n",
        "\n",
        "print (HowManyRealEstatesAre(df_estates))"
      ]
    },
    {
      "attachments": {},
      "cell_type": "markdown",
      "id": "binding-ebony",
      "metadata": {},
      "source": [
        "#### Ejercicio 13. ¿Cuál es la población (columna level5) que contiene la mayor cantidad de casas?(★★☆)\n",
        "\n",
        "Imprima la población y el número de casas."
      ]
    },
    {
      "cell_type": "code",
      "execution_count": 176,
      "id": "static-perry",
      "metadata": {},
      "outputs": [
        {
          "name": "stdout",
          "output_type": "stream",
          "text": [
            "level5\n",
            "Madrid Capital    6643\n",
            "Name: count, dtype: int64 15335\n",
            "None\n"
          ]
        }
      ],
      "source": [
        "def HowCityHaveMoreHouses(data):\n",
        "    city = data.level5.value_counts().head(1) #Aquí contamos las veces que un valor se repite y cogemos el primero\n",
        "    houses = data.level5.value_counts().sum()\n",
        "    print (city, houses)\n",
        "\n",
        "print (HowCityHaveMoreHouses(df_estates))"
      ]
    },
    {
      "attachments": {},
      "cell_type": "markdown",
      "id": "entire-classification",
      "metadata": {},
      "source": [
        "#### Ejercicio 14. Ahora vamos a trabajar con el \"cinturón sur\" de Madrid. Haz un subconjunto del DataFrame original que contenga las siguientes poblaciones (columna level5): \"Fuenlabrada\", \"Leganés\", \"Getafe\", \"Alcorcón\" (★★☆)\n",
        "\n",
        "Pista: Filtra el DataFrame original usando la columna `level5` y la función `isin`."
      ]
    },
    {
      "cell_type": "code",
      "execution_count": 177,
      "id": "binary-input",
      "metadata": {},
      "outputs": [
        {
          "name": "stdout",
          "output_type": "stream",
          "text": [
            "     index  Unnamed: 0  id_realEstates  isNew  \\\n",
            "0        1           2       153867863  False   \n",
            "1        3           4       152776331  False   \n",
            "2       85          86       153152077  False   \n",
            "3       94          95       153995577  False   \n",
            "4      109         110       153586414  False   \n",
            "..     ...         ...             ...    ...   \n",
            "902  15275       15276       153903887  False   \n",
            "903  15291       15292       151697757  False   \n",
            "904  15305       15306       153902389  False   \n",
            "905  15322       15323       153871864  False   \n",
            "906  15325       15326       153901467  False   \n",
            "\n",
            "                               realEstate_name  phone_realEstate  \\\n",
            "0            tecnocasa fuenlabrada ferrocarril       916358736.0   \n",
            "1            tecnocasa fuenlabrada ferrocarril       916358736.0   \n",
            "2                      sinergical inmobiliaria               NaN   \n",
            "3                              viviendas365com       911226014.0   \n",
            "4              area uno asesores inmobiliarios       912664081.0   \n",
            "..                                         ...               ...   \n",
            "902  aliseda servicios de gestion inmobiliaria       911368198.0   \n",
            "903                                    unipiso       912788631.0   \n",
            "904                             jadein ferrero       914871639.0   \n",
            "905                          gestion comercial       911220662.0   \n",
            "906                              montehogar 68       911790675.0   \n",
            "\n",
            "                                          url_inmueble  rooms  bathrooms  \\\n",
            "0    https://www.fotocasa.es/es/comprar/vivienda/ma...    3.0        1.0   \n",
            "1    https://www.fotocasa.es/es/comprar/vivienda/ma...    3.0        1.0   \n",
            "2    https://www.fotocasa.es/es/comprar/vivienda/le...    1.0        1.0   \n",
            "3    https://www.fotocasa.es/es/comprar/vivienda/le...    3.0        2.0   \n",
            "4    https://www.fotocasa.es/es/comprar/vivienda/ma...    3.0        3.0   \n",
            "..                                                 ...    ...        ...   \n",
            "902  https://www.fotocasa.es/es/comprar/vivienda/al...    3.0        1.0   \n",
            "903  https://www.fotocasa.es/es/comprar/vivienda/al...    3.0        2.0   \n",
            "904  https://www.fotocasa.es/es/comprar/vivienda/ma...    3.0        2.0   \n",
            "905  https://www.fotocasa.es/es/comprar/vivienda/ma...    3.0        1.0   \n",
            "906  https://www.fotocasa.es/es/comprar/vivienda/ma...    2.0        2.0   \n",
            "\n",
            "     surface  ...  level5Id level6Id level7Id level8Id accuracy  \\\n",
            "0        NaN  ...         0        0        0        0        1   \n",
            "1       86.0  ...         0        0        0        0        0   \n",
            "2       50.0  ...         0        0        0        0        1   \n",
            "3      120.0  ...         0        0        0        0        0   \n",
            "4      142.0  ...         0        0        0        0        0   \n",
            "..       ...  ...       ...      ...      ...      ...      ...   \n",
            "902     78.0  ...         0        0        0        0        1   \n",
            "903    110.0  ...         0        0        0        0        0   \n",
            "904     85.0  ...         0        0        0        0        0   \n",
            "905     91.0  ...         0        0        0        0        0   \n",
            "906     99.0  ...         0        0        0        0        1   \n",
            "\n",
            "             latitude          longitude zipCode customZone          pps  \n",
            "0            40,28674           -3,79351     NaN        NaN          NaN  \n",
            "1    40,2853785786438  -3,79508142135624     NaN        NaN  1034.883721  \n",
            "2            40,35059           -3,82693     NaN        NaN  2140.000000  \n",
            "3            40,31933           -3,77574     NaN        NaN  2666.666667  \n",
            "4          40,3313411         -3,8313868     NaN        NaN  2992.957746  \n",
            "..                ...                ...     ...        ...          ...  \n",
            "902          40,31381           -3,83733     NaN        NaN  1769.230769  \n",
            "903        40,3259051           -3,76318     NaN        NaN  2536.363636  \n",
            "904        40,2882193         -3,8098617     NaN        NaN  2000.000000  \n",
            "905          40,28282           -3,78892     NaN        NaN  1230.769231  \n",
            "906          40,28062           -3,79869     NaN        NaN  2171.717172  \n",
            "\n",
            "[907 rows x 39 columns]\n"
          ]
        }
      ],
      "source": [
        "###Creamos un nuevo DataFrame que contenga Fuenlabrada, Leganes, Getafe y Alcorcón\"###\n",
        "\n",
        "def CityFilter(dataset, city1, city2, city3, city4):\n",
        "    filt_cities =dataset['level5'].isin([city1,city2,city3,city4])\n",
        "    new_dataset = dataset[filt_cities].reset_index()\n",
        "    return new_dataset\n",
        "\n",
        "cinturonsur = CityFilter(df_estates, \"Fuenlabrada\",\"Leganés\",\"Getafe\",\"Alcorcón\")\n",
        "print (cinturonsur)"
      ]
    },
    {
      "attachments": {},
      "cell_type": "markdown",
      "id": "severe-fisher",
      "metadata": {},
      "source": [
        "#### Ejercicio 15. Traza un gráfico de barras de la mediana de los precios y explica lo que observas (debes usar el subconjunto obtenido del Ejercicio 14) (★★★)\n",
        "\n",
        "Imprima un gráfico de barras de la mediana de precios y escriba en la celda Markdown un breve análisis sobre el gráfico."
      ]
    },
    {
      "cell_type": "code",
      "execution_count": 178,
      "id": "lyric-bunch",
      "metadata": {},
      "outputs": [
        {
          "data": {
            "image/png": "[encoded data removed]",
            "text/plain": [
              "<Figure size 1000x500 with 1 Axes>"
            ]
          },
          "metadata": {},
          "output_type": "display_data"
        },
        {
          "name": "stdout",
          "output_type": "stream",
          "text": [
            "None\n"
          ]
        }
      ],
      "source": [
        "###Grafico de barra de la mediana de los precios de Cinturon Sur###\n",
        "\n",
        "def MultiCityMeanPrice(dataset, city1, city2, city3, city4):\n",
        "    labels = [city1, city2, city3, city4]\n",
        "    city1 = dataset[dataset['level5'] == city1].price.mean()\n",
        "    city2 = dataset[dataset['level5'] == city2].price.mean()\n",
        "    city3 = dataset[dataset['level5'] == city3].price.mean()\n",
        "    city4 = dataset[dataset['level5'] == city4].price.mean()\n",
        "    values = (city1, city2, city3, city4)\n",
        "    plt.figure(figsize=(10,5))\n",
        "    plt.bar(labels, values, ec=\"black\")\n",
        "\n",
        "    plt.title(\"Precios Medios Cinturón Sur\")\n",
        "    plt.show()\n",
        "\n",
        "print(MultiCityMeanPrice(cinturonsur, \"Fuenlabrada\",\"Leganés\",\"Getafe\",\"Alcorcón\"))  "
      ]
    },
    {
      "attachments": {},
      "cell_type": "markdown",
      "id": "sublime-newspaper",
      "metadata": {},
      "source": [
        "**TODO: Markdown**. Para escribir aquí, haz doble clic en esta celda, elimina este contenido y coloca lo que quieras escribir. Luego ejecuta la celda."
      ]
    },
    {
      "attachments": {},
      "cell_type": "markdown",
      "id": "speaking-diamond",
      "metadata": {},
      "source": [
        "#### Ejercicio 16. Calcula la media y la varianza de muestra para las siguientes variables: precio, habitaciones, superficie y baños (debes usar el subconjunto obtenido del Ejercicio 14) (★★★)\n",
        "\n",
        "Imprime ambos valores por cada variable."
      ]
    },
    {
      "cell_type": "code",
      "execution_count": 179,
      "id": "random-feeling",
      "metadata": {},
      "outputs": [
        {
          "name": "stdout",
          "output_type": "stream",
          "text": [
            "Varianza del precio: 14904916165.70277\n",
            "Media de precios: 223094.48070562293\n",
            "Varianza de las habitaciones: 0.7180888982846692\n",
            "Media de las habitaciones: 3.0177383592017737\n",
            "Varianza de la superficie: 4257.634921993191\n",
            "Media de la superficie: 111.75222363405337\n",
            "Varianza de los baños: 0.5711594078614581\n",
            "Media de baños: 1.633221850613155\n"
          ]
        }
      ],
      "source": [
        "###Calcula la medía y la varianza de muestra del Cinturón Sur###\n",
        "\n",
        "def Variance(dataset, value):\n",
        "    return dataset[value].var(ddof = 0)\n",
        "\n",
        "def Mean(dataset, value):\n",
        "    return dataset[value].mean()\n",
        "\n",
        "print (f\"Varianza del precio: {Variance(cinturonsur,'price')}\")\n",
        "print (f\"Media de precios: {Mean(cinturonsur,'price')}\")\n",
        "print (f\"Varianza de las habitaciones: {Variance(cinturonsur,'rooms')}\")\n",
        "print (f\"Media de las habitaciones: {Mean(cinturonsur,'rooms')}\")\n",
        "print (f\"Varianza de la superficie: {Variance(cinturonsur,'surface')}\")\n",
        "print (f\"Media de la superficie: {Mean(cinturonsur,'surface')}\")\n",
        "print (f\"Varianza de los baños: {Variance(cinturonsur,'bathrooms')}\")\n",
        "print (f\"Media de baños: {Mean(cinturonsur, 'bathrooms')}\")"
      ]
    },
    {
      "attachments": {},
      "cell_type": "markdown",
      "id": "revolutionary-matrix",
      "metadata": {},
      "source": [
        "#### Ejercicio 17. ¿Cuál es la casa más cara de cada población? Debes usar el subset obtenido en la pregunta 14 (★★☆)\n",
        "\n",
        "Imprime tanto la dirección como el precio de la casa seleccionada de cada población. Puedes imprimir un DataFrame o una sola línea para cada población."
      ]
    },
    {
      "cell_type": "code",
      "execution_count": 180,
      "id": "fifteen-browse",
      "metadata": {},
      "outputs": [
        {
          "name": "stdout",
          "output_type": "stream",
          "text": [
            "Fuenlabrada. Precio: 490000. Dirección: Calle de Paulo Freire, 5, Fuenlabrada\n",
            "None\n",
            "Alcorcón. Precio: 950000. Dirección: Alcorcón\n",
            "None\n",
            "Leganés. Precio: 650000. Dirección: Avenida Reina Sofía, Leganés\n",
            "None\n",
            "Getafe. Precio: 1050000. Dirección: Getafe\n",
            "None\n"
          ]
        }
      ],
      "source": [
        "### Cual es la casa más cara de cada población###\n",
        "\n",
        "def MostExpensiveHousePerCity(dataset, city):\n",
        "    expensivehouse = dataset[dataset['level5'] == city].sort_values('price').tail(1).squeeze() #Squeeze sirve para eliminar dimensiones en una matriz.\n",
        "    print (f\"{city}. Precio: {expensivehouse.price}. Dirección: {expensivehouse.address}\")\n",
        "\n",
        "print (MostExpensiveHousePerCity(cinturonsur, \"Fuenlabrada\"))\n",
        "print (MostExpensiveHousePerCity(cinturonsur, \"Alcorcón\"))\n",
        "print (MostExpensiveHousePerCity(cinturonsur, \"Leganés\"))\n",
        "print (MostExpensiveHousePerCity(cinturonsur, \"Getafe\"))\n"
      ]
    },
    {
      "attachments": {},
      "cell_type": "markdown",
      "id": "activated-knight",
      "metadata": {},
      "source": [
        "#### Ejercicio 18. Normaliza la variable de precios para cada población y traza los 4 histogramas en el mismo gráfico (debes usar el subconjunto obtenido en la pregunta 14) (★★★)\n",
        "\n",
        "Para el método de normalización, puedes usar el que consideres adecuado, no hay una única respuesta correcta para esta pregunta. Imprime el gráfico y escribe en la celda de Markdown un breve análisis sobre el gráfico.\n",
        "\n",
        "Pista: Puedes ayudarte revisando la demostración multihist de Matplotlib."
      ]
    },
    {
      "cell_type": "code",
      "execution_count": 181,
      "id": "civic-meditation",
      "metadata": {},
      "outputs": [
        {
          "data": {
            "image/png": "[encoded data removed]",
            "text/plain": [
              "<Figure size 1000x500 with 1 Axes>"
            ]
          },
          "metadata": {},
          "output_type": "display_data"
        },
        {
          "name": "stdout",
          "output_type": "stream",
          "text": [
            "None\n"
          ]
        }
      ],
      "source": [
        "###Historiograma de precios del Cinturon Sur###\n",
        "\n",
        "scaler=MinMaxScaler() #Para poder normalizar datos. Formula de normalización: x' = x-xmin/xmax-xmin\n",
        "\n",
        "def NormalicePriceCity(dataset,city):\n",
        "    datacity = dataset[dataset['level5'] == city]\n",
        "    price_scaled = scaler.fit_transform(datacity[['price']])\n",
        "    return price_scaled\n",
        "\n",
        "    #Creamos el Histograma\n",
        "\n",
        "def MultigramaPricesNormalized(dataset, city1, city2, city3, city4):\n",
        "    plt.figure(figsize = (10, 5))\n",
        "    plt.hist(NormalicePriceCity(dataset, city1), bins=30, alpha=0.8, ec=\"Black\", label=city1)\n",
        "    plt.hist(NormalicePriceCity(dataset, city2), bins=30, alpha=0.8, ec=\"Black\", label=city2)\n",
        "    plt.hist(NormalicePriceCity(dataset, city3), bins=30, alpha=0.8, ec=\"Black\", label=city3)\n",
        "    plt.hist(NormalicePriceCity(dataset, city4), bins=30, alpha=0.8, ec=\"Black\", label=city4)\n",
        "\n",
        "    plt.legend()\n",
        "    plt.show()\n",
        "\n",
        "print (MultigramaPricesNormalized(cinturonsur,\"Fuenlabrada\",\"Alcorcón\",\"Leganés\",\"Getafe\"))"
      ]
    },
    {
      "attachments": {},
      "cell_type": "markdown",
      "id": "precise-heavy",
      "metadata": {},
      "source": [
        "**TODO: Markdown**. Para escribir aquí, haz doble clic en esta celda, elimina este contenido y coloca lo que quieras escribir. Luego ejecuta la celda."
      ]
    },
    {
      "attachments": {},
      "cell_type": "markdown",
      "id": "patent-jonathan",
      "metadata": {},
      "source": [
        "#### Ejercicio 19. ¿Qué puedes decir sobre el precio por metro cuadrado (precio/m2) entre los municipios de 'Getafe' y 'Alcorcón'? Debes usar el subconjunto obtenido en la pregunta 14 (★★☆)\n",
        "\n",
        "Pista: Crea una nueva columna llamada `pps` (price per square en inglés) y luego analiza los valores"
      ]
    },
    {
      "cell_type": "code",
      "execution_count": 182,
      "id": "initial-liverpool",
      "metadata": {},
      "outputs": [
        {
          "data": {
            "image/png": "[encoded data removed]",
            "text/plain": [
              "<Figure size 1000x500 with 3 Axes>"
            ]
          },
          "metadata": {},
          "output_type": "display_data"
        },
        {
          "name": "stdout",
          "output_type": "stream",
          "text": [
            "None\n"
          ]
        }
      ],
      "source": [
        "###Precio medio/m2 Getafe y Alcorcón###\n",
        "def HistTwoCitiesPPS(dataset, city1, city2):\n",
        "    plt.figure(figsize=(10,5))\n",
        "    plt.title(f\"Precio por metro cuadrado entre {city1} y {city2}.\")\n",
        "    plt.subplot(1,2,1)\n",
        "    plt.hist(dataset[dataset['level5'] == city1].pps, bins=30, alpha=0.8, ec=\"black\", label=city1)\n",
        "    plt.legend()\n",
        "    plt.subplot(1,2,2)\n",
        "    plt.hist(dataset[dataset['level5'] == city2].pps, bins=30, alpha=0.8, ec=\"black\", label=city2)\n",
        "    plt.legend()\n",
        "    plt.show()\n",
        "    \n",
        "print(HistTwoCitiesPPS(dfwith_pps, \"Getafe\", \"Alcorcón\"))\n"
      ]
    },
    {
      "attachments": {},
      "cell_type": "markdown",
      "id": "enhanced-moscow",
      "metadata": {},
      "source": [
        "#### Ejercicio 20. Realiza el mismo gráfico para 4 poblaciones diferentes (columna level5) y colócalos en el mismo gráfico. Debes usar el subconjunto obtenido en la pregunta 14 (★★☆) \n",
        "Pista: Haz un diagrama de dispersión de cada población usando subgráficos (subplots)."
      ]
    },
    {
      "cell_type": "code",
      "execution_count": 183,
      "id": "accepting-airfare",
      "metadata": {},
      "outputs": [
        {
          "data": {
            "image/png": "[encoded data removed]",
            "text/plain": [
              "<Figure size 1000x1000 with 5 Axes>"
            ]
          },
          "metadata": {},
          "output_type": "display_data"
        },
        {
          "name": "stdout",
          "output_type": "stream",
          "text": [
            "None\n"
          ]
        }
      ],
      "source": [
        "### 4 subconjuntos en un grafico. ###\n",
        "\n",
        "def MultiGrafic(dataset, city1,city2,city3,city4):\n",
        "    plt.figure(figsize=(10,10))\n",
        "    plt. title(\"Gráfica de dispersión precio/superficie\")\n",
        "    plt.subplot(2,2,1)\n",
        "    plt.scatter((dataset[dataset['level5'] == city1].price),(dataset[dataset['level5'] == city1].surface), label = city1, color=\"red\")\n",
        "    plt.legend()\n",
        "    plt.subplot(2,2,2)\n",
        "    plt.scatter((dataset[dataset['level5'] == city2].price),(dataset[dataset['level5'] == city2].surface), label = city2, color=\"blue\")\n",
        "    plt.legend()\n",
        "    plt.subplot(2,2,3)\n",
        "    plt.scatter((dataset[dataset['level5'] == city3].price),(dataset[dataset['level5'] == city3].surface), label = city3, color=\"green\")\n",
        "    plt.legend()\n",
        "    plt.subplot(2,2,4)\n",
        "    plt.scatter((dataset[dataset['level5'] == city4].price),(dataset[dataset['level5'] == city4].surface), label = city4, color=\"orange\")\n",
        "    plt.legend()\n",
        "    plt.show()\n",
        "  \n",
        "\n",
        "print (MultiGrafic(cinturonsur, \"Fuenlabrada\", \"Leganés\", \"Getafe\", \"Alcorcón\"))\n"
      ]
    },
    {
      "attachments": {},
      "cell_type": "markdown",
      "id": "blocked-effects",
      "metadata": {},
      "source": [
        "#### Ejercicio 21. Realiza un trazado de las coordenadas (columnas latitud y longitud) del cinturón sur de Madrid por color de cada población (debes usar el subconjunto obtenido del Ejercicio 14) (★★★★)\n",
        "\n",
        "Ejecuta la siguiente celda y luego comienza a codear en la siguiente. Debes implementar un código simple que transforme las columnas de coordenadas en un diccionario de Python (agrega más información si es necesario) y agrégala al mapa."
      ]
    },
    {
      "cell_type": "code",
      "execution_count": 184,
      "id": "headed-privacy",
      "metadata": {},
      "outputs": [],
      "source": [
        "from ipyleaflet import Map, basemaps, Marker\n",
        "\n",
        "# Mapa centrado en (60 grados latitud y -2.2 grados longitud)\n",
        "# Latitud, longitud\n",
        "mapa = Map(center = (60 , -2.2), zoom = 2, min_zoom = 1, max_zoom = 20, \n",
        "    basemap = basemaps.OpenTopoMap)"
      ]
    },
    {
      "cell_type": "code",
      "execution_count": 185,
      "id": "present-mistress",
      "metadata": {},
      "outputs": [
        {
          "name": "stdout",
          "output_type": "stream",
          "text": [
            "None\n"
          ]
        },
        {
          "data": {
            "application/vnd.jupyter.widget-view+json": {
              "model_id": "0e94384ed5e442e0a26a028fccf52032",
              "version_major": 2,
              "version_minor": 0
            },
            "text/plain": [
              "Map(center=[60, -2.2], controls=(ZoomControl(options=['position', 'zoom_in_text', 'zoom_in_title', 'zoom_out_t…"
            ]
          },
          "metadata": {},
          "output_type": "display_data"
        }
      ],
      "source": [
        "## Aquí: traza la coordenadas de los estados\n",
        "def GetCoordinatesDict(dataset):\n",
        "    return dataset[['latitude','longitude']].to_dict()\n",
        "\n",
        "coordenadas = GetCoordinatesDict(cinturonsur)\n",
        "\n",
        "def AddMarker(dataset):\n",
        "    for i in range(len(dataset['latitude'])):\n",
        "        marker = Marker(location=(dataset[\"latitude\"][i],dataset[\"longitude\"][i]))\n",
        "        mapa.add(marker)\n",
        "\n",
        "print(AddMarker(coordenadas))\n",
        "display (mapa)\n"
      ]
    }
  ],
  "metadata": {
    "kernelspec": {
      "display_name": "Python 3",
      "language": "python",
      "name": "python3"
    },
    "language_info": {
      "codemirror_mode": {
        "name": "ipython",
        "version": 3
      },
      "file_extension": ".py",
      "mimetype": "text/x-python",
      "name": "python",
      "nbconvert_exporter": "python",
      "pygments_lexer": "ipython3",
      "version": "3.11.4"
    }
  },
  "nbformat": 4,
  "nbformat_minor": 5
}
